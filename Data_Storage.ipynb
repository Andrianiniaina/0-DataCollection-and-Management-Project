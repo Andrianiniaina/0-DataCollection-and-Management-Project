{
 "cells": [
  {
   "cell_type": "markdown",
   "metadata": {},
   "source": [
    "<img src=\"https://companieslogo.com/img/orig/kayak_BIG-48662c15.png?t=1701236680&download=true\" alt=\"kayak logo\" />\n",
    "\n",
    "# Data Storage"
   ]
  },
  {
   "cell_type": "markdown",
   "metadata": {},
   "source": [
    "### Import useful libraries"
   ]
  },
  {
   "cell_type": "code",
   "execution_count": 2,
   "metadata": {},
   "outputs": [
    {
     "name": "stdout",
     "output_type": "stream",
     "text": [
      "Requirement already satisfied: python-dotenv in c:\\users\\arani\\anaconda3\\envs\\aws_env\\lib\\site-packages (1.0.1)\n",
      "Requirement already satisfied: psycopg2-binary in c:\\users\\arani\\anaconda3\\envs\\aws_env\\lib\\site-packages (2.9.10)\n",
      "Requirement already satisfied: sqlalchemy in c:\\users\\arani\\anaconda3\\envs\\aws_env\\lib\\site-packages (2.0.38)\n",
      "Requirement already satisfied: requests in c:\\users\\arani\\anaconda3\\envs\\aws_env\\lib\\site-packages (2.32.3)\n",
      "Requirement already satisfied: tqdm in c:\\users\\arani\\anaconda3\\envs\\aws_env\\lib\\site-packages (4.67.1)\n",
      "Requirement already satisfied: greenlet!=0.4.17 in c:\\users\\arani\\anaconda3\\envs\\aws_env\\lib\\site-packages (from sqlalchemy) (3.1.1)\n",
      "Requirement already satisfied: typing-extensions>=4.6.0 in c:\\users\\arani\\anaconda3\\envs\\aws_env\\lib\\site-packages (from sqlalchemy) (4.12.2)\n",
      "Requirement already satisfied: charset-normalizer<4,>=2 in c:\\users\\arani\\anaconda3\\envs\\aws_env\\lib\\site-packages (from requests) (3.4.1)\n",
      "Requirement already satisfied: idna<4,>=2.5 in c:\\users\\arani\\anaconda3\\envs\\aws_env\\lib\\site-packages (from requests) (3.10)\n",
      "Requirement already satisfied: urllib3<3,>=1.21.1 in c:\\users\\arani\\anaconda3\\envs\\aws_env\\lib\\site-packages (from requests) (1.26.20)\n",
      "Requirement already satisfied: certifi>=2017.4.17 in c:\\users\\arani\\anaconda3\\envs\\aws_env\\lib\\site-packages (from requests) (2025.1.31)\n",
      "Requirement already satisfied: colorama in c:\\users\\arani\\anaconda3\\envs\\aws_env\\lib\\site-packages (from tqdm) (0.4.6)\n",
      "Note: you may need to restart the kernel to use updated packages.\n"
     ]
    }
   ],
   "source": [
    "pip install python-dotenv psycopg2-binary sqlalchemy requests tqdm"
   ]
  },
  {
   "cell_type": "code",
   "execution_count": 15,
   "metadata": {},
   "outputs": [],
   "source": [
    "# Data manipulation\n",
    "import pandas as pd\n",
    "import numpy as np\n",
    "import json\n",
    "import glob\n",
    "\n",
    "# Interaction with AWS S3\n",
    "import boto3\n",
    "from botocore.exceptions import ClientError\n",
    "\n",
    "# Get secret access \n",
    "from dotenv import load_dotenv\n",
    "import os\n",
    "\n",
    "# Access to remote database\n",
    "import psycopg2\n",
    "from sqlalchemy import create_engine\n",
    "\n",
    "import requests\n",
    "\n",
    "# Time and progressor bar\n",
    "import time\n",
    "from tqdm import tqdm\n",
    "\n",
    "# SQL queries\n",
    "from sqlalchemy.ext.declarative import declarative_base\n",
    "from sqlalchemy.orm import relationship, sessionmaker\n",
    "from sqlalchemy import Column, Integer, String, Float, Text, ForeignKey\n",
    "from sqlalchemy.sql import text"
   ]
  },
  {
   "cell_type": "markdown",
   "metadata": {},
   "source": [
    "## Create data lake using S3"
   ]
  },
  {
   "cell_type": "markdown",
   "metadata": {},
   "source": [
    "Before push all datas to S3, let's check if th datas are clean and ready to be pushed to S3"
   ]
  },
  {
   "cell_type": "markdown",
   "metadata": {},
   "source": [
    "### results/hotels_data.json"
   ]
  },
  {
   "cell_type": "code",
   "execution_count": 14,
   "metadata": {},
   "outputs": [
    {
     "name": "stdout",
     "output_type": "stream",
     "text": [
      "hotels_data\n"
     ]
    },
    {
     "data": {
      "text/html": [
       "<div>\n",
       "<style scoped>\n",
       "    .dataframe tbody tr th:only-of-type {\n",
       "        vertical-align: middle;\n",
       "    }\n",
       "\n",
       "    .dataframe tbody tr th {\n",
       "        vertical-align: top;\n",
       "    }\n",
       "\n",
       "    .dataframe thead th {\n",
       "        text-align: right;\n",
       "    }\n",
       "</style>\n",
       "<table border=\"1\" class=\"dataframe\">\n",
       "  <thead>\n",
       "    <tr style=\"text-align: right;\">\n",
       "      <th></th>\n",
       "      <th>name</th>\n",
       "      <th>score</th>\n",
       "      <th>description</th>\n",
       "      <th>latitude</th>\n",
       "      <th>longitude</th>\n",
       "      <th>url</th>\n",
       "    </tr>\n",
       "  </thead>\n",
       "  <tbody>\n",
       "    <tr>\n",
       "      <th>0</th>\n",
       "      <td>Vivez le Bonheur - Plage - Port de plaisance -...</td>\n",
       "      <td>9.0</td>\n",
       "      <td>Set in Le Havre, just less than 1 km from Le H...</td>\n",
       "      <td>49.488164</td>\n",
       "      <td>0.098942</td>\n",
       "      <td>https://www.booking.com/hotel/fr/nouveau-vivez...</td>\n",
       "    </tr>\n",
       "    <tr>\n",
       "      <th>1</th>\n",
       "      <td>The People Le Havre</td>\n",
       "      <td>8.5</td>\n",
       "      <td>Welcome to The People Le Havre!\\n\\nHere, you c...</td>\n",
       "      <td>49.493422</td>\n",
       "      <td>0.130220</td>\n",
       "      <td>https://www.booking.com/hotel/fr/residence-la-...</td>\n",
       "    </tr>\n",
       "    <tr>\n",
       "      <th>2</th>\n",
       "      <td>L'Oasis Havrais - Centre Historique du Havre</td>\n",
       "      <td>8.6</td>\n",
       "      <td>Located in Le Havre, near Le Volcan, Eglise St...</td>\n",
       "      <td>49.489258</td>\n",
       "      <td>0.111700</td>\n",
       "      <td>https://www.booking.com/hotel/fr/la-porte-ocea...</td>\n",
       "    </tr>\n",
       "    <tr>\n",
       "      <th>3</th>\n",
       "      <td>Appartement agréable et confortable pour 4 per...</td>\n",
       "      <td>8.5</td>\n",
       "      <td>Set in Le Havre, just 2.9 km from Le Havre Bea...</td>\n",
       "      <td>49.498724</td>\n",
       "      <td>0.129134</td>\n",
       "      <td>https://www.booking.com/hotel/fr/bel-apparteme...</td>\n",
       "    </tr>\n",
       "    <tr>\n",
       "      <th>4</th>\n",
       "      <td>Vent des Grèves</td>\n",
       "      <td>9.2</td>\n",
       "      <td>Featuring a garden and views of garden, Vent d...</td>\n",
       "      <td>48.615403</td>\n",
       "      <td>-1.491440</td>\n",
       "      <td>https://www.booking.com/hotel/fr/vent-des-grev...</td>\n",
       "    </tr>\n",
       "  </tbody>\n",
       "</table>\n",
       "</div>"
      ],
      "text/plain": [
       "                                                name  score  \\\n",
       "0  Vivez le Bonheur - Plage - Port de plaisance -...    9.0   \n",
       "1                                The People Le Havre    8.5   \n",
       "2       L'Oasis Havrais - Centre Historique du Havre    8.6   \n",
       "3  Appartement agréable et confortable pour 4 per...    8.5   \n",
       "4                                    Vent des Grèves    9.2   \n",
       "\n",
       "                                         description   latitude  longitude  \\\n",
       "0  Set in Le Havre, just less than 1 km from Le H...  49.488164   0.098942   \n",
       "1  Welcome to The People Le Havre!\\n\\nHere, you c...  49.493422   0.130220   \n",
       "2  Located in Le Havre, near Le Volcan, Eglise St...  49.489258   0.111700   \n",
       "3  Set in Le Havre, just 2.9 km from Le Havre Bea...  49.498724   0.129134   \n",
       "4  Featuring a garden and views of garden, Vent d...  48.615403  -1.491440   \n",
       "\n",
       "                                                 url  \n",
       "0  https://www.booking.com/hotel/fr/nouveau-vivez...  \n",
       "1  https://www.booking.com/hotel/fr/residence-la-...  \n",
       "2  https://www.booking.com/hotel/fr/la-porte-ocea...  \n",
       "3  https://www.booking.com/hotel/fr/bel-apparteme...  \n",
       "4  https://www.booking.com/hotel/fr/vent-des-grev...  "
      ]
     },
     "metadata": {},
     "output_type": "display_data"
    },
    {
     "name": "stdout",
     "output_type": "stream",
     "text": [
      "\n",
      "Checking for missing data in hotels_data file...\n"
     ]
    },
    {
     "data": {
      "text/plain": [
       "name           False\n",
       "score           True\n",
       "description     True\n",
       "latitude       False\n",
       "longitude      False\n",
       "url            False\n",
       "dtype: bool"
      ]
     },
     "metadata": {},
     "output_type": "display_data"
    },
    {
     "name": "stdout",
     "output_type": "stream",
     "text": [
      "\n",
      "Deleting rows with missing values in hotels_data file...\n",
      "...Done\n",
      "\n",
      "Checking for duplicated data in hotels_data file...\n"
     ]
    },
    {
     "data": {
      "text/plain": [
       "np.False_"
      ]
     },
     "metadata": {},
     "output_type": "display_data"
    },
    {
     "name": "stdout",
     "output_type": "stream",
     "text": [
      "\n"
     ]
    }
   ],
   "source": [
    "# Import data from results folder\n",
    "hotels_data = pd.read_json('results/booking_data.json')\n",
    "\n",
    "# Display data\n",
    "print(\"hotels_data\")\n",
    "display(hotels_data.head())\n",
    "print()\n",
    "\n",
    "# Verify if there's missing value in file\n",
    "print(f\"Checking for missing data in hotels_data file...\")\n",
    "display(hotels_data.isnull().any())\n",
    "print()\n",
    "\n",
    "# Delete rows with missing values in hotels_data file\n",
    "print(f\"Deleting rows with missing values in hotels_data file...\")\n",
    "hotels_data = hotels_data.dropna()\n",
    "print(\"...Done\")\n",
    "print()\n",
    "\n",
    "# Verify if there's duplicated data in hotels_data file\n",
    "print(f\"Checking for duplicated data in hotels_data file...\")\n",
    "display(hotels_data.duplicated().any())\n",
    "print()"
   ]
  },
  {
   "cell_type": "markdown",
   "metadata": {},
   "source": [
    "### results/destination_coordinates.csv"
   ]
  },
  {
   "cell_type": "code",
   "execution_count": 15,
   "metadata": {},
   "outputs": [
    {
     "name": "stdout",
     "output_type": "stream",
     "text": [
      "weather_data\n"
     ]
    },
    {
     "data": {
      "text/html": [
       "<div>\n",
       "<style scoped>\n",
       "    .dataframe tbody tr th:only-of-type {\n",
       "        vertical-align: middle;\n",
       "    }\n",
       "\n",
       "    .dataframe tbody tr th {\n",
       "        vertical-align: top;\n",
       "    }\n",
       "\n",
       "    .dataframe thead th {\n",
       "        text-align: right;\n",
       "    }\n",
       "</style>\n",
       "<table border=\"1\" class=\"dataframe\">\n",
       "  <thead>\n",
       "    <tr style=\"text-align: right;\">\n",
       "      <th></th>\n",
       "      <th>city</th>\n",
       "      <th>lat</th>\n",
       "      <th>lon</th>\n",
       "      <th>temp_day</th>\n",
       "      <th>avg_temp</th>\n",
       "      <th>description</th>\n",
       "    </tr>\n",
       "  </thead>\n",
       "  <tbody>\n",
       "    <tr>\n",
       "      <th>0</th>\n",
       "      <td>Mont Saint-Michel</td>\n",
       "      <td>48.635954</td>\n",
       "      <td>-1.511460</td>\n",
       "      <td>10.14</td>\n",
       "      <td>9.510000</td>\n",
       "      <td>pluie modérée</td>\n",
       "    </tr>\n",
       "    <tr>\n",
       "      <th>1</th>\n",
       "      <td>Saint-Malo</td>\n",
       "      <td>48.649518</td>\n",
       "      <td>-2.026041</td>\n",
       "      <td>10.43</td>\n",
       "      <td>8.468571</td>\n",
       "      <td>pluie modérée</td>\n",
       "    </tr>\n",
       "    <tr>\n",
       "      <th>2</th>\n",
       "      <td>Bayeux</td>\n",
       "      <td>49.276462</td>\n",
       "      <td>-0.702474</td>\n",
       "      <td>8.96</td>\n",
       "      <td>8.397143</td>\n",
       "      <td>pluie modérée</td>\n",
       "    </tr>\n",
       "    <tr>\n",
       "      <th>3</th>\n",
       "      <td>Le Havre</td>\n",
       "      <td>49.493898</td>\n",
       "      <td>0.107973</td>\n",
       "      <td>8.68</td>\n",
       "      <td>8.065714</td>\n",
       "      <td>pluie modérée</td>\n",
       "    </tr>\n",
       "    <tr>\n",
       "      <th>4</th>\n",
       "      <td>Rouen</td>\n",
       "      <td>49.440459</td>\n",
       "      <td>1.093966</td>\n",
       "      <td>9.59</td>\n",
       "      <td>9.188571</td>\n",
       "      <td>pluie modérée</td>\n",
       "    </tr>\n",
       "  </tbody>\n",
       "</table>\n",
       "</div>"
      ],
      "text/plain": [
       "                city        lat       lon  temp_day  avg_temp    description\n",
       "0  Mont Saint-Michel  48.635954 -1.511460     10.14  9.510000  pluie modérée\n",
       "1         Saint-Malo  48.649518 -2.026041     10.43  8.468571  pluie modérée\n",
       "2             Bayeux  49.276462 -0.702474      8.96  8.397143  pluie modérée\n",
       "3           Le Havre  49.493898  0.107973      8.68  8.065714  pluie modérée\n",
       "4              Rouen  49.440459  1.093966      9.59  9.188571  pluie modérée"
      ]
     },
     "metadata": {},
     "output_type": "display_data"
    },
    {
     "name": "stdout",
     "output_type": "stream",
     "text": [
      "\n",
      "Checking for missing data in weather_data file...\n"
     ]
    },
    {
     "data": {
      "text/plain": [
       "city           False\n",
       "lat            False\n",
       "lon            False\n",
       "temp_day       False\n",
       "avg_temp       False\n",
       "description    False\n",
       "dtype: bool"
      ]
     },
     "metadata": {},
     "output_type": "display_data"
    },
    {
     "name": "stdout",
     "output_type": "stream",
     "text": [
      "\n"
     ]
    }
   ],
   "source": [
    "# Import data from results folder\n",
    "weather_data = pd.read_csv(\"results/weather_data.csv\")\n",
    "\n",
    "# Display data\n",
    "print(\"weather_data\")\n",
    "display(weather_data.head())\n",
    "print()\n",
    "\n",
    "# Verify if there's missing value in file\n",
    "print(f\"Checking for missing data in weather_data file...\")\n",
    "display(weather_data.isnull().any())\n",
    "print()"
   ]
  },
  {
   "cell_type": "markdown",
   "metadata": {},
   "source": [
    "### results/destination_coordinates.csv"
   ]
  },
  {
   "cell_type": "code",
   "execution_count": 16,
   "metadata": {},
   "outputs": [
    {
     "name": "stdout",
     "output_type": "stream",
     "text": [
      "destination_coordinates\n"
     ]
    },
    {
     "data": {
      "text/html": [
       "<div>\n",
       "<style scoped>\n",
       "    .dataframe tbody tr th:only-of-type {\n",
       "        vertical-align: middle;\n",
       "    }\n",
       "\n",
       "    .dataframe tbody tr th {\n",
       "        vertical-align: top;\n",
       "    }\n",
       "\n",
       "    .dataframe thead th {\n",
       "        text-align: right;\n",
       "    }\n",
       "</style>\n",
       "<table border=\"1\" class=\"dataframe\">\n",
       "  <thead>\n",
       "    <tr style=\"text-align: right;\">\n",
       "      <th></th>\n",
       "      <th>destination</th>\n",
       "      <th>lat</th>\n",
       "      <th>lon</th>\n",
       "    </tr>\n",
       "  </thead>\n",
       "  <tbody>\n",
       "    <tr>\n",
       "      <th>0</th>\n",
       "      <td>Mont Saint-Michel</td>\n",
       "      <td>48.635954</td>\n",
       "      <td>-1.511460</td>\n",
       "    </tr>\n",
       "    <tr>\n",
       "      <th>1</th>\n",
       "      <td>Saint-Malo</td>\n",
       "      <td>48.649518</td>\n",
       "      <td>-2.026041</td>\n",
       "    </tr>\n",
       "    <tr>\n",
       "      <th>2</th>\n",
       "      <td>Bayeux</td>\n",
       "      <td>49.276462</td>\n",
       "      <td>-0.702474</td>\n",
       "    </tr>\n",
       "    <tr>\n",
       "      <th>3</th>\n",
       "      <td>Le Havre</td>\n",
       "      <td>49.493898</td>\n",
       "      <td>0.107973</td>\n",
       "    </tr>\n",
       "    <tr>\n",
       "      <th>4</th>\n",
       "      <td>Rouen</td>\n",
       "      <td>49.440459</td>\n",
       "      <td>1.093966</td>\n",
       "    </tr>\n",
       "  </tbody>\n",
       "</table>\n",
       "</div>"
      ],
      "text/plain": [
       "         destination        lat       lon\n",
       "0  Mont Saint-Michel  48.635954 -1.511460\n",
       "1         Saint-Malo  48.649518 -2.026041\n",
       "2             Bayeux  49.276462 -0.702474\n",
       "3           Le Havre  49.493898  0.107973\n",
       "4              Rouen  49.440459  1.093966"
      ]
     },
     "metadata": {},
     "output_type": "display_data"
    },
    {
     "name": "stdout",
     "output_type": "stream",
     "text": [
      "\n",
      "Checking for missing data in destination_coordinates file...\n"
     ]
    },
    {
     "data": {
      "text/plain": [
       "destination    False\n",
       "lat            False\n",
       "lon            False\n",
       "dtype: bool"
      ]
     },
     "metadata": {},
     "output_type": "display_data"
    },
    {
     "name": "stdout",
     "output_type": "stream",
     "text": [
      "\n",
      "Checking for duplicated data in destination_coordinates file...\n"
     ]
    },
    {
     "data": {
      "text/plain": [
       "np.False_"
      ]
     },
     "metadata": {},
     "output_type": "display_data"
    },
    {
     "name": "stdout",
     "output_type": "stream",
     "text": [
      "\n"
     ]
    }
   ],
   "source": [
    "# Import data from results folder\n",
    "destination_coordinates = pd.read_csv(\"results/destination_coordinates.csv\")\n",
    "\n",
    "# Display data\n",
    "print(\"destination_coordinates\")\n",
    "display(destination_coordinates.head())\n",
    "print()\n",
    "\n",
    "# Verify if there's missing value in file\n",
    "print(f\"Checking for missing data in destination_coordinates file...\")\n",
    "display(destination_coordinates.isnull().any())\n",
    "print()\n",
    "\n",
    "# Verify if there's duplicated data in file\n",
    "print(f\"Checking for duplicated data in destination_coordinates file...\")\n",
    "display(destination_coordinates.duplicated().any())\n",
    "print()"
   ]
  },
  {
   "cell_type": "markdown",
   "metadata": {},
   "source": [
    "### results/destination_names.csv"
   ]
  },
  {
   "cell_type": "code",
   "execution_count": 17,
   "metadata": {},
   "outputs": [
    {
     "name": "stdout",
     "output_type": "stream",
     "text": [
      "destination_names\n"
     ]
    },
    {
     "data": {
      "text/html": [
       "<div>\n",
       "<style scoped>\n",
       "    .dataframe tbody tr th:only-of-type {\n",
       "        vertical-align: middle;\n",
       "    }\n",
       "\n",
       "    .dataframe tbody tr th {\n",
       "        vertical-align: top;\n",
       "    }\n",
       "\n",
       "    .dataframe thead th {\n",
       "        text-align: right;\n",
       "    }\n",
       "</style>\n",
       "<table border=\"1\" class=\"dataframe\">\n",
       "  <thead>\n",
       "    <tr style=\"text-align: right;\">\n",
       "      <th></th>\n",
       "      <th>destination</th>\n",
       "    </tr>\n",
       "  </thead>\n",
       "  <tbody>\n",
       "    <tr>\n",
       "      <th>0</th>\n",
       "      <td>Mont Saint Michel</td>\n",
       "    </tr>\n",
       "    <tr>\n",
       "      <th>1</th>\n",
       "      <td>St Malo</td>\n",
       "    </tr>\n",
       "    <tr>\n",
       "      <th>2</th>\n",
       "      <td>Bayeux</td>\n",
       "    </tr>\n",
       "    <tr>\n",
       "      <th>3</th>\n",
       "      <td>Le Havre</td>\n",
       "    </tr>\n",
       "    <tr>\n",
       "      <th>4</th>\n",
       "      <td>Rouen</td>\n",
       "    </tr>\n",
       "  </tbody>\n",
       "</table>\n",
       "</div>"
      ],
      "text/plain": [
       "         destination\n",
       "0  Mont Saint Michel\n",
       "1            St Malo\n",
       "2             Bayeux\n",
       "3           Le Havre\n",
       "4              Rouen"
      ]
     },
     "metadata": {},
     "output_type": "display_data"
    },
    {
     "name": "stdout",
     "output_type": "stream",
     "text": [
      "\n",
      "Checking for missing data in destination_names file...\n"
     ]
    },
    {
     "data": {
      "text/plain": [
       "destination    False\n",
       "dtype: bool"
      ]
     },
     "metadata": {},
     "output_type": "display_data"
    },
    {
     "name": "stdout",
     "output_type": "stream",
     "text": [
      "\n",
      "Checking for duplicated data in destination_names file...\n"
     ]
    },
    {
     "data": {
      "text/plain": [
       "np.False_"
      ]
     },
     "metadata": {},
     "output_type": "display_data"
    }
   ],
   "source": [
    "# Import data from results folder\n",
    "destination_names = pd.read_csv(\"results/destination_names.csv\")\n",
    "\n",
    "# Display data\n",
    "print(\"destination_names\")\n",
    "display(destination_names.head())\n",
    "print()\n",
    "\n",
    "# Verify if there's missing value in file\n",
    "print(f\"Checking for missing data in destination_names file...\")\n",
    "display(destination_names.isnull().any())\n",
    "print()\n",
    "\n",
    "# Verify if there's duplicated data in file\n",
    "print(f\"Checking for duplicated data in destination_names file...\")\n",
    "display(destination_names.duplicated().any())"
   ]
  },
  {
   "cell_type": "markdown",
   "metadata": {},
   "source": [
    "## AWS S3"
   ]
  },
  {
   "cell_type": "markdown",
   "metadata": {},
   "source": [
    "### Connect to S3 bucket"
   ]
  },
  {
   "cell_type": "code",
   "execution_count": 6,
   "metadata": {},
   "outputs": [],
   "source": [
    "# Load environnement variables\n",
    "load_dotenv()\n",
    "\n",
    "AWS_ACCESS_KEY_ID = os.getenv(\"AWS_ACCESS_KEY_ID\")\n",
    "AWS_SECRET_ACCESS_KEY = os.getenv(\"AWS_SECRET_ACCESS_KEY\")\n",
    "AWS_REGION = os.getenv(\"AWS_REGION\")"
   ]
  },
  {
   "cell_type": "code",
   "execution_count": 19,
   "metadata": {},
   "outputs": [
    {
     "name": "stdout",
     "output_type": "stream",
     "text": [
      "✅ Bucket already exists\n"
     ]
    }
   ],
   "source": [
    "session = boto3.Session(\n",
    "    aws_access_key_id = AWS_ACCESS_KEY_ID,\n",
    "    aws_secret_access_key = AWS_SECRET_ACCESS_KEY,\n",
    "    region_name = \"eu-west-3\"\n",
    ")\n",
    "\n",
    "s3 = session.resource(\"s3\")\n",
    "s3_client = session.client(\"s3\")\n",
    "\n",
    "\n",
    "bucket_name = \"block1-bucket\"\n",
    "\n",
    "# Check if bucket already exists\n",
    "try :\n",
    "    s3_client.head_bucket(Bucket=bucket_name)\n",
    "    print(f\"✅ Bucket already exists\")\n",
    "except ClientError as e :\n",
    "    error_code = int(e.response['Error']['Code'])\n",
    "    if error_code == \"404\":\n",
    "        s3.create_bucket(\n",
    "            Bucket=bucket_name,\n",
    "            CreateBucketConfiguration={\n",
    "                'LocationConstraint' : \"eu-west-3\"\n",
    "            }\n",
    "        )\n",
    "    else :\n",
    "        print(\"Error checking bucket\")\n",
    "        exit()\n",
    "\n",
    "bucket = s3.Bucket(bucket_name)"
   ]
  },
  {
   "cell_type": "markdown",
   "metadata": {},
   "source": [
    "### Push all csv files"
   ]
  },
  {
   "cell_type": "code",
   "execution_count": 20,
   "metadata": {},
   "outputs": [
    {
     "name": "stdout",
     "output_type": "stream",
     "text": [
      "Upload : C:/Users/arani/OneDrive/Documents/COURS/Projects/Project 5 - Web Scraping - Storage - ETL Processes/results\\best_destinations.csv\n",
      "Upload : C:/Users/arani/OneDrive/Documents/COURS/Projects/Project 5 - Web Scraping - Storage - ETL Processes/results\\destination_coordinates.csv\n",
      "Upload : C:/Users/arani/OneDrive/Documents/COURS/Projects/Project 5 - Web Scraping - Storage - ETL Processes/results\\destination_names.csv\n",
      "Upload : C:/Users/arani/OneDrive/Documents/COURS/Projects/Project 5 - Web Scraping - Storage - ETL Processes/results\\weather_data.csv\n"
     ]
    }
   ],
   "source": [
    "path = \"C:/Users/arani/OneDrive/Documents/COURS/Projects/Project 5 - Web Scraping - Storage - ETL Processes/results\"\n",
    "extension = \"csv\"\n",
    "result = glob.glob(os.path.join(path, f\"*.{extension}\"))\n",
    "\n",
    "if not result:\n",
    "    print(f\"❌ No file  .{extension} found in '{path}'.\")\n",
    "\n",
    "for file in result :\n",
    "    try :\n",
    "        print(\"Upload :\", file)\n",
    "        # Keep only the file name\n",
    "        filename = os.path.basename(file) \n",
    "        # Upload to S3 without subfolder structure\n",
    "        bucket.upload_file(file, filename) \n",
    "    except Exception as e :\n",
    "        print(\"Upload :\", file, \"failed\")\n",
    "        print(e)"
   ]
  },
  {
   "cell_type": "markdown",
   "metadata": {},
   "source": [
    "### Modify json file before pushing on S3 bucket"
   ]
  },
  {
   "cell_type": "code",
   "execution_count": 21,
   "metadata": {},
   "outputs": [
    {
     "name": "stdout",
     "output_type": "stream",
     "text": [
      "Load json file ...\n",
      "...Done\n",
      "\n",
      "Shape of hotels_df : (876, 6)\n",
      "\n"
     ]
    },
    {
     "data": {
      "text/html": [
       "<div>\n",
       "<style scoped>\n",
       "    .dataframe tbody tr th:only-of-type {\n",
       "        vertical-align: middle;\n",
       "    }\n",
       "\n",
       "    .dataframe tbody tr th {\n",
       "        vertical-align: top;\n",
       "    }\n",
       "\n",
       "    .dataframe thead th {\n",
       "        text-align: right;\n",
       "    }\n",
       "</style>\n",
       "<table border=\"1\" class=\"dataframe\">\n",
       "  <thead>\n",
       "    <tr style=\"text-align: right;\">\n",
       "      <th></th>\n",
       "      <th>name</th>\n",
       "      <th>score</th>\n",
       "      <th>description</th>\n",
       "      <th>latitude</th>\n",
       "      <th>longitude</th>\n",
       "      <th>url</th>\n",
       "    </tr>\n",
       "  </thead>\n",
       "  <tbody>\n",
       "    <tr>\n",
       "      <th>0</th>\n",
       "      <td>Vivez le Bonheur - Plage - Port de plaisance -...</td>\n",
       "      <td>9</td>\n",
       "      <td>Set in Le Havre, just less than 1 km from Le H...</td>\n",
       "      <td>49.488163827840836</td>\n",
       "      <td>0.09894180510142903</td>\n",
       "      <td>https://www.booking.com/hotel/fr/nouveau-vivez...</td>\n",
       "    </tr>\n",
       "    <tr>\n",
       "      <th>1</th>\n",
       "      <td>The People Le Havre</td>\n",
       "      <td>8.5</td>\n",
       "      <td>Welcome to The People Le Havre!\\n\\nHere, you c...</td>\n",
       "      <td>49.4934219676408</td>\n",
       "      <td>0.13021990656852722</td>\n",
       "      <td>https://www.booking.com/hotel/fr/residence-la-...</td>\n",
       "    </tr>\n",
       "    <tr>\n",
       "      <th>2</th>\n",
       "      <td>L'Oasis Havrais - Centre Historique du Havre</td>\n",
       "      <td>8.6</td>\n",
       "      <td>Located in Le Havre, near Le Volcan, Eglise St...</td>\n",
       "      <td>49.489258</td>\n",
       "      <td>0.11170000000000001</td>\n",
       "      <td>https://www.booking.com/hotel/fr/la-porte-ocea...</td>\n",
       "    </tr>\n",
       "    <tr>\n",
       "      <th>3</th>\n",
       "      <td>Appartement agréable et confortable pour 4 per...</td>\n",
       "      <td>8.5</td>\n",
       "      <td>Set in Le Havre, just 2.9 km from Le Havre Bea...</td>\n",
       "      <td>49.498724448495</td>\n",
       "      <td>0.129134234943</td>\n",
       "      <td>https://www.booking.com/hotel/fr/bel-apparteme...</td>\n",
       "    </tr>\n",
       "    <tr>\n",
       "      <th>4</th>\n",
       "      <td>Vent des Grèves</td>\n",
       "      <td>9.2</td>\n",
       "      <td>Featuring a garden and views of garden, Vent d...</td>\n",
       "      <td>48.615403</td>\n",
       "      <td>-1.49144</td>\n",
       "      <td>https://www.booking.com/hotel/fr/vent-des-grev...</td>\n",
       "    </tr>\n",
       "  </tbody>\n",
       "</table>\n",
       "</div>"
      ],
      "text/plain": [
       "                                                name score  \\\n",
       "0  Vivez le Bonheur - Plage - Port de plaisance -...     9   \n",
       "1                                The People Le Havre   8.5   \n",
       "2       L'Oasis Havrais - Centre Historique du Havre   8.6   \n",
       "3  Appartement agréable et confortable pour 4 per...   8.5   \n",
       "4                                    Vent des Grèves   9.2   \n",
       "\n",
       "                                         description            latitude  \\\n",
       "0  Set in Le Havre, just less than 1 km from Le H...  49.488163827840836   \n",
       "1  Welcome to The People Le Havre!\\n\\nHere, you c...    49.4934219676408   \n",
       "2  Located in Le Havre, near Le Volcan, Eglise St...           49.489258   \n",
       "3  Set in Le Havre, just 2.9 km from Le Havre Bea...     49.498724448495   \n",
       "4  Featuring a garden and views of garden, Vent d...           48.615403   \n",
       "\n",
       "             longitude                                                url  \n",
       "0  0.09894180510142903  https://www.booking.com/hotel/fr/nouveau-vivez...  \n",
       "1  0.13021990656852722  https://www.booking.com/hotel/fr/residence-la-...  \n",
       "2  0.11170000000000001  https://www.booking.com/hotel/fr/la-porte-ocea...  \n",
       "3       0.129134234943  https://www.booking.com/hotel/fr/bel-apparteme...  \n",
       "4             -1.49144  https://www.booking.com/hotel/fr/vent-des-grev...  "
      ]
     },
     "metadata": {},
     "output_type": "display_data"
    },
    {
     "name": "stdout",
     "output_type": "stream",
     "text": [
      "\n",
      "Add city column in hotels_df\n"
     ]
    },
    {
     "name": "stderr",
     "output_type": "stream",
     "text": [
      "100%|██████████| 876/876 [00:00<00:00, 2702.18it/s]\n"
     ]
    },
    {
     "data": {
      "text/html": [
       "<div>\n",
       "<style scoped>\n",
       "    .dataframe tbody tr th:only-of-type {\n",
       "        vertical-align: middle;\n",
       "    }\n",
       "\n",
       "    .dataframe tbody tr th {\n",
       "        vertical-align: top;\n",
       "    }\n",
       "\n",
       "    .dataframe thead th {\n",
       "        text-align: right;\n",
       "    }\n",
       "</style>\n",
       "<table border=\"1\" class=\"dataframe\">\n",
       "  <thead>\n",
       "    <tr style=\"text-align: right;\">\n",
       "      <th></th>\n",
       "      <th>name</th>\n",
       "      <th>score</th>\n",
       "      <th>description</th>\n",
       "      <th>latitude</th>\n",
       "      <th>longitude</th>\n",
       "      <th>url</th>\n",
       "      <th>city</th>\n",
       "    </tr>\n",
       "  </thead>\n",
       "  <tbody>\n",
       "    <tr>\n",
       "      <th>0</th>\n",
       "      <td>Vivez le Bonheur - Plage - Port de plaisance -...</td>\n",
       "      <td>9</td>\n",
       "      <td>Set in Le Havre, just less than 1 km from Le H...</td>\n",
       "      <td>49.488164</td>\n",
       "      <td>0.098942</td>\n",
       "      <td>https://www.booking.com/hotel/fr/nouveau-vivez...</td>\n",
       "      <td>Le Havre</td>\n",
       "    </tr>\n",
       "    <tr>\n",
       "      <th>1</th>\n",
       "      <td>The People Le Havre</td>\n",
       "      <td>8.5</td>\n",
       "      <td>Welcome to The People Le Havre!\\n\\nHere, you c...</td>\n",
       "      <td>49.493422</td>\n",
       "      <td>0.130220</td>\n",
       "      <td>https://www.booking.com/hotel/fr/residence-la-...</td>\n",
       "      <td>None</td>\n",
       "    </tr>\n",
       "    <tr>\n",
       "      <th>2</th>\n",
       "      <td>L'Oasis Havrais - Centre Historique du Havre</td>\n",
       "      <td>8.6</td>\n",
       "      <td>Located in Le Havre, near Le Volcan, Eglise St...</td>\n",
       "      <td>49.489258</td>\n",
       "      <td>0.111700</td>\n",
       "      <td>https://www.booking.com/hotel/fr/la-porte-ocea...</td>\n",
       "      <td>Le Havre</td>\n",
       "    </tr>\n",
       "    <tr>\n",
       "      <th>3</th>\n",
       "      <td>Appartement agréable et confortable pour 4 per...</td>\n",
       "      <td>8.5</td>\n",
       "      <td>Set in Le Havre, just 2.9 km from Le Havre Bea...</td>\n",
       "      <td>49.498724</td>\n",
       "      <td>0.129134</td>\n",
       "      <td>https://www.booking.com/hotel/fr/bel-apparteme...</td>\n",
       "      <td>None</td>\n",
       "    </tr>\n",
       "    <tr>\n",
       "      <th>4</th>\n",
       "      <td>Vent des Grèves</td>\n",
       "      <td>9.2</td>\n",
       "      <td>Featuring a garden and views of garden, Vent d...</td>\n",
       "      <td>48.615403</td>\n",
       "      <td>-1.491440</td>\n",
       "      <td>https://www.booking.com/hotel/fr/vent-des-grev...</td>\n",
       "      <td>None</td>\n",
       "    </tr>\n",
       "  </tbody>\n",
       "</table>\n",
       "</div>"
      ],
      "text/plain": [
       "                                                name score  \\\n",
       "0  Vivez le Bonheur - Plage - Port de plaisance -...     9   \n",
       "1                                The People Le Havre   8.5   \n",
       "2       L'Oasis Havrais - Centre Historique du Havre   8.6   \n",
       "3  Appartement agréable et confortable pour 4 per...   8.5   \n",
       "4                                    Vent des Grèves   9.2   \n",
       "\n",
       "                                         description   latitude  longitude  \\\n",
       "0  Set in Le Havre, just less than 1 km from Le H...  49.488164   0.098942   \n",
       "1  Welcome to The People Le Havre!\\n\\nHere, you c...  49.493422   0.130220   \n",
       "2  Located in Le Havre, near Le Volcan, Eglise St...  49.489258   0.111700   \n",
       "3  Set in Le Havre, just 2.9 km from Le Havre Bea...  49.498724   0.129134   \n",
       "4  Featuring a garden and views of garden, Vent d...  48.615403  -1.491440   \n",
       "\n",
       "                                                 url      city  \n",
       "0  https://www.booking.com/hotel/fr/nouveau-vivez...  Le Havre  \n",
       "1  https://www.booking.com/hotel/fr/residence-la-...      None  \n",
       "2  https://www.booking.com/hotel/fr/la-porte-ocea...  Le Havre  \n",
       "3  https://www.booking.com/hotel/fr/bel-apparteme...      None  \n",
       "4  https://www.booking.com/hotel/fr/vent-des-grev...      None  "
      ]
     },
     "metadata": {},
     "output_type": "display_data"
    },
    {
     "name": "stdout",
     "output_type": "stream",
     "text": [
      "\n",
      "Complete the missing cities with Nominatim\n"
     ]
    },
    {
     "name": "stderr",
     "output_type": "stream",
     "text": [
      "100%|██████████| 339/339 [07:19<00:00,  1.30s/it]\n"
     ]
    },
    {
     "data": {
      "text/html": [
       "<div>\n",
       "<style scoped>\n",
       "    .dataframe tbody tr th:only-of-type {\n",
       "        vertical-align: middle;\n",
       "    }\n",
       "\n",
       "    .dataframe tbody tr th {\n",
       "        vertical-align: top;\n",
       "    }\n",
       "\n",
       "    .dataframe thead th {\n",
       "        text-align: right;\n",
       "    }\n",
       "</style>\n",
       "<table border=\"1\" class=\"dataframe\">\n",
       "  <thead>\n",
       "    <tr style=\"text-align: right;\">\n",
       "      <th></th>\n",
       "      <th>name</th>\n",
       "      <th>score</th>\n",
       "      <th>description</th>\n",
       "      <th>latitude</th>\n",
       "      <th>longitude</th>\n",
       "      <th>url</th>\n",
       "      <th>city</th>\n",
       "    </tr>\n",
       "  </thead>\n",
       "  <tbody>\n",
       "    <tr>\n",
       "      <th>0</th>\n",
       "      <td>Vivez le Bonheur - Plage - Port de plaisance -...</td>\n",
       "      <td>9</td>\n",
       "      <td>Set in Le Havre, just less than 1 km from Le H...</td>\n",
       "      <td>49.488164</td>\n",
       "      <td>0.098942</td>\n",
       "      <td>https://www.booking.com/hotel/fr/nouveau-vivez...</td>\n",
       "      <td>Le Havre</td>\n",
       "    </tr>\n",
       "    <tr>\n",
       "      <th>1</th>\n",
       "      <td>The People Le Havre</td>\n",
       "      <td>8.5</td>\n",
       "      <td>Welcome to The People Le Havre!\\n\\nHere, you c...</td>\n",
       "      <td>49.493422</td>\n",
       "      <td>0.130220</td>\n",
       "      <td>https://www.booking.com/hotel/fr/residence-la-...</td>\n",
       "      <td>Le Havre</td>\n",
       "    </tr>\n",
       "    <tr>\n",
       "      <th>2</th>\n",
       "      <td>L'Oasis Havrais - Centre Historique du Havre</td>\n",
       "      <td>8.6</td>\n",
       "      <td>Located in Le Havre, near Le Volcan, Eglise St...</td>\n",
       "      <td>49.489258</td>\n",
       "      <td>0.111700</td>\n",
       "      <td>https://www.booking.com/hotel/fr/la-porte-ocea...</td>\n",
       "      <td>Le Havre</td>\n",
       "    </tr>\n",
       "    <tr>\n",
       "      <th>3</th>\n",
       "      <td>Appartement agréable et confortable pour 4 per...</td>\n",
       "      <td>8.5</td>\n",
       "      <td>Set in Le Havre, just 2.9 km from Le Havre Bea...</td>\n",
       "      <td>49.498724</td>\n",
       "      <td>0.129134</td>\n",
       "      <td>https://www.booking.com/hotel/fr/bel-apparteme...</td>\n",
       "      <td>Le Havre</td>\n",
       "    </tr>\n",
       "    <tr>\n",
       "      <th>4</th>\n",
       "      <td>Vent des Grèves</td>\n",
       "      <td>9.2</td>\n",
       "      <td>Featuring a garden and views of garden, Vent d...</td>\n",
       "      <td>48.615403</td>\n",
       "      <td>-1.491440</td>\n",
       "      <td>https://www.booking.com/hotel/fr/vent-des-grev...</td>\n",
       "      <td>Pontorson</td>\n",
       "    </tr>\n",
       "  </tbody>\n",
       "</table>\n",
       "</div>"
      ],
      "text/plain": [
       "                                                name score  \\\n",
       "0  Vivez le Bonheur - Plage - Port de plaisance -...     9   \n",
       "1                                The People Le Havre   8.5   \n",
       "2       L'Oasis Havrais - Centre Historique du Havre   8.6   \n",
       "3  Appartement agréable et confortable pour 4 per...   8.5   \n",
       "4                                    Vent des Grèves   9.2   \n",
       "\n",
       "                                         description   latitude  longitude  \\\n",
       "0  Set in Le Havre, just less than 1 km from Le H...  49.488164   0.098942   \n",
       "1  Welcome to The People Le Havre!\\n\\nHere, you c...  49.493422   0.130220   \n",
       "2  Located in Le Havre, near Le Volcan, Eglise St...  49.489258   0.111700   \n",
       "3  Set in Le Havre, just 2.9 km from Le Havre Bea...  49.498724   0.129134   \n",
       "4  Featuring a garden and views of garden, Vent d...  48.615403  -1.491440   \n",
       "\n",
       "                                                 url       city  \n",
       "0  https://www.booking.com/hotel/fr/nouveau-vivez...   Le Havre  \n",
       "1  https://www.booking.com/hotel/fr/residence-la-...   Le Havre  \n",
       "2  https://www.booking.com/hotel/fr/la-porte-ocea...   Le Havre  \n",
       "3  https://www.booking.com/hotel/fr/bel-apparteme...   Le Havre  \n",
       "4  https://www.booking.com/hotel/fr/vent-des-grev...  Pontorson  "
      ]
     },
     "metadata": {},
     "output_type": "display_data"
    }
   ],
   "source": [
    "print(\"Load json file ...\")\n",
    "json_file = open(f\"{path}/booking_data.json\")\n",
    "booking_hotels_data = json.load(json_file)\n",
    "print(\"...Done\")\n",
    "print()\n",
    "\n",
    "hotels_df = pd.DataFrame(booking_hotels_data)\n",
    "print(f\"Shape of hotels_df : {hotels_df.shape}\")\n",
    "print()\n",
    "\n",
    "display(hotels_df.head())\n",
    "print()\n",
    "print(\"Add city column in hotels_df\")\n",
    "\n",
    "# Add tolerance to match the coordinates details (in degrees)\n",
    "tolerance = 0.01 # (~1km)\n",
    "\n",
    "# Add progression bar\n",
    "tqdm.pandas()\n",
    "\n",
    "hotels_df['latitude'] = pd.to_numeric(hotels_df['latitude'], errors='coerce')\n",
    "hotels_df['longitude'] = pd.to_numeric(hotels_df['longitude'], errors='coerce')\n",
    "destination_coordinates['lat'] = pd.to_numeric(destination_coordinates['lat'], errors='coerce')\n",
    "destination_coordinates['lon'] = pd.to_numeric(destination_coordinates['lon'], errors='coerce')\n",
    "\n",
    "# Function to find city with latitude and longitude\n",
    "def find_city(lat, lon) :\n",
    "    match = destination_coordinates[\n",
    "        (np.abs(destination_coordinates['lat'] - lat) <= tolerance) &\n",
    "        (np.abs(destination_coordinates['lon'] - lon) <= tolerance)\n",
    "    ]\n",
    "    if not match.empty :\n",
    "        return match.iloc[0]['destination']\n",
    "    else :\n",
    "        return None\n",
    "\n",
    "# Apply this function on hotels_df\n",
    "hotels_df['city'] = hotels_df.progress_apply(lambda row: find_city(row['latitude'], row['longitude']), axis=1)\n",
    "\n",
    "display(hotels_df.head())\n",
    "print()\n",
    "print(\"Complete the missing cities with Nominatim\")\n",
    "\n",
    "# Function to find missing city\n",
    "def reverse_geocode(lat, lon) :\n",
    "    url_api = \"https://nominatim.openstreetmap.org/reverse\"\n",
    "    headers = {\n",
    "        \"User-Agent\" : \"MyPythonScript/1.0\",\n",
    "        \"Referer\" : \"https://mywebsite.com/page.html\"\n",
    "    }\n",
    "    payload = {\n",
    "        'lat' : lat,\n",
    "        'lon' : lon,\n",
    "        'format' : 'jsonv2',\n",
    "        'zoom' : 10,\n",
    "        'addressdetails' : 1\n",
    "    }\n",
    "\n",
    "    try :\n",
    "        response = requests.get(url_api, params=payload, headers=headers)\n",
    "        if response.status_code ==200:\n",
    "            data = response.json()\n",
    "            return data.get('address', {}).get('city') or \\\n",
    "                   data.get('address', {}).get('town') or \\\n",
    "                   data.get('address', {}).get('village')\n",
    "        else :\n",
    "            return None\n",
    "    except Exception as e:\n",
    "        print(f\"API Error : {e}\")\n",
    "        return None\n",
    "    \n",
    "# Apply this function for missing cities\n",
    "missing_city_rows = hotels_df[hotels_df['city'].isnull()]\n",
    "for idx, row in tqdm(missing_city_rows.iterrows(), total=hotels_df['city'].isnull().sum()) :\n",
    "    city = reverse_geocode(row['latitude'], row['longitude'])\n",
    "    hotels_df.at[idx, 'city'] = city\n",
    "    time.sleep(1)\n",
    "\n",
    "display(hotels_df.head())"
   ]
  },
  {
   "cell_type": "code",
   "execution_count": 61,
   "metadata": {},
   "outputs": [
    {
     "name": "stdout",
     "output_type": "stream",
     "text": [
      "Rename latitude and longitude columns to lat and lon\n",
      "\n",
      "Upload dataframe in block1-bucket\n",
      "Save hotels data in results folder\n"
     ]
    }
   ],
   "source": [
    "print(\"Rename latitude and longitude columns to lat and lon\")\n",
    "hotels_df.rename({'latitude' : 'lat', 'longitude' : 'lon'}, axis=1, inplace=True)\n",
    "print()\n",
    "\n",
    "print(f\"Upload dataframe in {bucket_name}\")\n",
    "bucket.put_object(\n",
    "    Body=hotels_df.to_csv(index=False),\n",
    "    Key=\"hotels_data.csv\"\n",
    ")\n",
    "\n",
    "print(\"Save hotels data in results folder\")\n",
    "hotels_df.to_csv(\"results/hotels_data.csv\", index=False)"
   ]
  },
  {
   "cell_type": "markdown",
   "metadata": {},
   "source": [
    "### Show result on S3"
   ]
  },
  {
   "attachments": {
    "image.png": {
     "image/png": "[encoded data removed]"
    }
   },
   "cell_type": "markdown",
   "metadata": {},
   "source": [
    "![image.png](attachment:image.png)"
   ]
  },
  {
   "cell_type": "markdown",
   "metadata": {},
   "source": [
    "## AWS RDS"
   ]
  },
  {
   "attachments": {
    "Instance of database.png": {
     "image/png": "[encoded data removed]"
    }
   },
   "cell_type": "markdown",
   "metadata": {},
   "source": [
    "![Instance of database.png](<attachment:Instance of database.png>)"
   ]
  },
  {
   "cell_type": "markdown",
   "metadata": {},
   "source": [
    "### PostgreSQL connection"
   ]
  },
  {
   "cell_type": "code",
   "execution_count": 7,
   "metadata": {},
   "outputs": [],
   "source": [
    "DBHOST = os.getenv(\"DBHOST\")\n",
    "DBUSER = os.getenv(\"DBUSER\")\n",
    "DBPASS = os.getenv(\"DBPASS\")\n",
    "DBNAME = os.getenv(\"DBNAME\")\n",
    "PORT = os.getenv(\"PORT\")\n",
    "\n",
    "engine = create_engine(f\"postgresql+psycopg2://{DBUSER}:{DBPASS}@{DBHOST}:{PORT}/{DBNAME}\")"
   ]
  },
  {
   "cell_type": "code",
   "execution_count": 8,
   "metadata": {},
   "outputs": [
    {
     "name": "stdout",
     "output_type": "stream",
     "text": [
      "block1-database.ch62668ycirk.eu-west-3.rds.amazonaws.com postgres Jedha-97411 block1-database 5432\n"
     ]
    }
   ],
   "source": [
    "print(DBHOST, DBUSER, DBPASS, DBNAME, PORT)"
   ]
  },
  {
   "cell_type": "markdown",
   "metadata": {},
   "source": [
    "### Read file from S3"
   ]
  },
  {
   "cell_type": "code",
   "execution_count": 9,
   "metadata": {},
   "outputs": [
    {
     "data": {
      "text/html": [
       "<div>\n",
       "<style scoped>\n",
       "    .dataframe tbody tr th:only-of-type {\n",
       "        vertical-align: middle;\n",
       "    }\n",
       "\n",
       "    .dataframe tbody tr th {\n",
       "        vertical-align: top;\n",
       "    }\n",
       "\n",
       "    .dataframe thead th {\n",
       "        text-align: right;\n",
       "    }\n",
       "</style>\n",
       "<table border=\"1\" class=\"dataframe\">\n",
       "  <thead>\n",
       "    <tr style=\"text-align: right;\">\n",
       "      <th></th>\n",
       "      <th>destination</th>\n",
       "      <th>lat</th>\n",
       "      <th>lon</th>\n",
       "    </tr>\n",
       "  </thead>\n",
       "  <tbody>\n",
       "    <tr>\n",
       "      <th>0</th>\n",
       "      <td>Mont Saint-Michel</td>\n",
       "      <td>48.635954</td>\n",
       "      <td>-1.511460</td>\n",
       "    </tr>\n",
       "    <tr>\n",
       "      <th>1</th>\n",
       "      <td>Saint-Malo</td>\n",
       "      <td>48.649518</td>\n",
       "      <td>-2.026041</td>\n",
       "    </tr>\n",
       "    <tr>\n",
       "      <th>2</th>\n",
       "      <td>Bayeux</td>\n",
       "      <td>49.276462</td>\n",
       "      <td>-0.702474</td>\n",
       "    </tr>\n",
       "    <tr>\n",
       "      <th>3</th>\n",
       "      <td>Le Havre</td>\n",
       "      <td>49.493898</td>\n",
       "      <td>0.107973</td>\n",
       "    </tr>\n",
       "    <tr>\n",
       "      <th>4</th>\n",
       "      <td>Rouen</td>\n",
       "      <td>49.440459</td>\n",
       "      <td>1.093966</td>\n",
       "    </tr>\n",
       "  </tbody>\n",
       "</table>\n",
       "</div>"
      ],
      "text/plain": [
       "         destination        lat       lon\n",
       "0  Mont Saint-Michel  48.635954 -1.511460\n",
       "1         Saint-Malo  48.649518 -2.026041\n",
       "2             Bayeux  49.276462 -0.702474\n",
       "3           Le Havre  49.493898  0.107973\n",
       "4              Rouen  49.440459  1.093966"
      ]
     },
     "metadata": {},
     "output_type": "display_data"
    },
    {
     "name": "stdout",
     "output_type": "stream",
     "text": [
      "\n"
     ]
    },
    {
     "data": {
      "text/html": [
       "<div>\n",
       "<style scoped>\n",
       "    .dataframe tbody tr th:only-of-type {\n",
       "        vertical-align: middle;\n",
       "    }\n",
       "\n",
       "    .dataframe tbody tr th {\n",
       "        vertical-align: top;\n",
       "    }\n",
       "\n",
       "    .dataframe thead th {\n",
       "        text-align: right;\n",
       "    }\n",
       "</style>\n",
       "<table border=\"1\" class=\"dataframe\">\n",
       "  <thead>\n",
       "    <tr style=\"text-align: right;\">\n",
       "      <th></th>\n",
       "      <th>id</th>\n",
       "      <th>city</th>\n",
       "      <th>lat</th>\n",
       "      <th>lon</th>\n",
       "      <th>temp_day</th>\n",
       "      <th>avg_temp</th>\n",
       "      <th>description</th>\n",
       "    </tr>\n",
       "  </thead>\n",
       "  <tbody>\n",
       "    <tr>\n",
       "      <th>0</th>\n",
       "      <td>0</td>\n",
       "      <td>Marseille</td>\n",
       "      <td>43.296174</td>\n",
       "      <td>5.369953</td>\n",
       "      <td>11.17</td>\n",
       "      <td>12.648571</td>\n",
       "      <td>ciel dégagé</td>\n",
       "    </tr>\n",
       "    <tr>\n",
       "      <th>1</th>\n",
       "      <td>1</td>\n",
       "      <td>Aix-en-Provence</td>\n",
       "      <td>43.529842</td>\n",
       "      <td>5.447474</td>\n",
       "      <td>10.31</td>\n",
       "      <td>12.132857</td>\n",
       "      <td>ciel dégagé</td>\n",
       "    </tr>\n",
       "    <tr>\n",
       "      <th>2</th>\n",
       "      <td>2</td>\n",
       "      <td>Bormes-les-Mimosas</td>\n",
       "      <td>43.150697</td>\n",
       "      <td>6.341928</td>\n",
       "      <td>12.00</td>\n",
       "      <td>12.097143</td>\n",
       "      <td>ciel dégagé</td>\n",
       "    </tr>\n",
       "    <tr>\n",
       "      <th>3</th>\n",
       "      <td>3</td>\n",
       "      <td>Cassis</td>\n",
       "      <td>43.214036</td>\n",
       "      <td>5.539632</td>\n",
       "      <td>10.26</td>\n",
       "      <td>12.090000</td>\n",
       "      <td>ciel dégagé</td>\n",
       "    </tr>\n",
       "    <tr>\n",
       "      <th>4</th>\n",
       "      <td>4</td>\n",
       "      <td>Collioure</td>\n",
       "      <td>42.525050</td>\n",
       "      <td>3.083155</td>\n",
       "      <td>14.51</td>\n",
       "      <td>11.931429</td>\n",
       "      <td>ciel dégagé</td>\n",
       "    </tr>\n",
       "  </tbody>\n",
       "</table>\n",
       "</div>"
      ],
      "text/plain": [
       "   id                city        lat       lon  temp_day   avg_temp  \\\n",
       "0   0           Marseille  43.296174  5.369953     11.17  12.648571   \n",
       "1   1     Aix-en-Provence  43.529842  5.447474     10.31  12.132857   \n",
       "2   2  Bormes-les-Mimosas  43.150697  6.341928     12.00  12.097143   \n",
       "3   3              Cassis  43.214036  5.539632     10.26  12.090000   \n",
       "4   4           Collioure  42.525050  3.083155     14.51  11.931429   \n",
       "\n",
       "   description  \n",
       "0  ciel dégagé  \n",
       "1  ciel dégagé  \n",
       "2  ciel dégagé  \n",
       "3  ciel dégagé  \n",
       "4  ciel dégagé  "
      ]
     },
     "metadata": {},
     "output_type": "display_data"
    },
    {
     "name": "stdout",
     "output_type": "stream",
     "text": [
      "Shape of best_destinations : (7, 7)\n",
      "\n"
     ]
    },
    {
     "data": {
      "text/html": [
       "<div>\n",
       "<style scoped>\n",
       "    .dataframe tbody tr th:only-of-type {\n",
       "        vertical-align: middle;\n",
       "    }\n",
       "\n",
       "    .dataframe tbody tr th {\n",
       "        vertical-align: top;\n",
       "    }\n",
       "\n",
       "    .dataframe thead th {\n",
       "        text-align: right;\n",
       "    }\n",
       "</style>\n",
       "<table border=\"1\" class=\"dataframe\">\n",
       "  <thead>\n",
       "    <tr style=\"text-align: right;\">\n",
       "      <th></th>\n",
       "      <th>name</th>\n",
       "      <th>score</th>\n",
       "      <th>description</th>\n",
       "      <th>lat</th>\n",
       "      <th>lon</th>\n",
       "      <th>url</th>\n",
       "      <th>city</th>\n",
       "    </tr>\n",
       "  </thead>\n",
       "  <tbody>\n",
       "    <tr>\n",
       "      <th>0</th>\n",
       "      <td>Vivez le Bonheur - Plage - Port de plaisance -...</td>\n",
       "      <td>9.0</td>\n",
       "      <td>Set in Le Havre, just less than 1 km from Le H...</td>\n",
       "      <td>49.488164</td>\n",
       "      <td>0.098942</td>\n",
       "      <td>https://www.booking.com/hotel/fr/nouveau-vivez...</td>\n",
       "      <td>Le Havre</td>\n",
       "    </tr>\n",
       "    <tr>\n",
       "      <th>1</th>\n",
       "      <td>The People Le Havre</td>\n",
       "      <td>8.5</td>\n",
       "      <td>Welcome to The People Le Havre!\\n\\nHere, you c...</td>\n",
       "      <td>49.493422</td>\n",
       "      <td>0.130220</td>\n",
       "      <td>https://www.booking.com/hotel/fr/residence-la-...</td>\n",
       "      <td>Le Havre</td>\n",
       "    </tr>\n",
       "    <tr>\n",
       "      <th>2</th>\n",
       "      <td>L'Oasis Havrais - Centre Historique du Havre</td>\n",
       "      <td>8.6</td>\n",
       "      <td>Located in Le Havre, near Le Volcan, Eglise St...</td>\n",
       "      <td>49.489258</td>\n",
       "      <td>0.111700</td>\n",
       "      <td>https://www.booking.com/hotel/fr/la-porte-ocea...</td>\n",
       "      <td>Le Havre</td>\n",
       "    </tr>\n",
       "    <tr>\n",
       "      <th>3</th>\n",
       "      <td>Appartement agréable et confortable pour 4 per...</td>\n",
       "      <td>8.5</td>\n",
       "      <td>Set in Le Havre, just 2.9 km from Le Havre Bea...</td>\n",
       "      <td>49.498724</td>\n",
       "      <td>0.129134</td>\n",
       "      <td>https://www.booking.com/hotel/fr/bel-apparteme...</td>\n",
       "      <td>Le Havre</td>\n",
       "    </tr>\n",
       "    <tr>\n",
       "      <th>4</th>\n",
       "      <td>Vent des Grèves</td>\n",
       "      <td>9.2</td>\n",
       "      <td>Featuring a garden and views of garden, Vent d...</td>\n",
       "      <td>48.615403</td>\n",
       "      <td>-1.491440</td>\n",
       "      <td>https://www.booking.com/hotel/fr/vent-des-grev...</td>\n",
       "      <td>Pontorson</td>\n",
       "    </tr>\n",
       "  </tbody>\n",
       "</table>\n",
       "</div>"
      ],
      "text/plain": [
       "                                                name  score  \\\n",
       "0  Vivez le Bonheur - Plage - Port de plaisance -...    9.0   \n",
       "1                                The People Le Havre    8.5   \n",
       "2       L'Oasis Havrais - Centre Historique du Havre    8.6   \n",
       "3  Appartement agréable et confortable pour 4 per...    8.5   \n",
       "4                                    Vent des Grèves    9.2   \n",
       "\n",
       "                                         description        lat       lon  \\\n",
       "0  Set in Le Havre, just less than 1 km from Le H...  49.488164  0.098942   \n",
       "1  Welcome to The People Le Havre!\\n\\nHere, you c...  49.493422  0.130220   \n",
       "2  Located in Le Havre, near Le Volcan, Eglise St...  49.489258  0.111700   \n",
       "3  Set in Le Havre, just 2.9 km from Le Havre Bea...  49.498724  0.129134   \n",
       "4  Featuring a garden and views of garden, Vent d...  48.615403 -1.491440   \n",
       "\n",
       "                                                 url       city  \n",
       "0  https://www.booking.com/hotel/fr/nouveau-vivez...   Le Havre  \n",
       "1  https://www.booking.com/hotel/fr/residence-la-...   Le Havre  \n",
       "2  https://www.booking.com/hotel/fr/la-porte-ocea...   Le Havre  \n",
       "3  https://www.booking.com/hotel/fr/bel-apparteme...   Le Havre  \n",
       "4  https://www.booking.com/hotel/fr/vent-des-grev...  Pontorson  "
      ]
     },
     "metadata": {},
     "output_type": "display_data"
    },
    {
     "name": "stdout",
     "output_type": "stream",
     "text": [
      "Shape of hotels_df : (876, 7)\n",
      "\n"
     ]
    }
   ],
   "source": [
    "# Versions incompatible of librairies need to read csv on local machine\n",
    "destination_coordinates = pd.read_csv(\n",
    "    \"results/destination_coordinates.csv\")\n",
    "display(destination_coordinates.head())\n",
    "print()\n",
    "\n",
    "best_destinations = pd.read_csv(\"results/best_destinations.csv\", index_col=0)\n",
    "display(best_destinations.head())\n",
    "print(f\"Shape of best_destinations : {best_destinations.shape}\")\n",
    "print()\n",
    "\n",
    "hotels_df = pd.read_csv(\"results/hotels_data.csv\")\n",
    "display(hotels_df.head())\n",
    "print(f\"Shape of hotels_df : {hotels_df.shape}\")\n",
    "print()"
   ]
  },
  {
   "cell_type": "markdown",
   "metadata": {},
   "source": [
    "### Now let's create our tables"
   ]
  },
  {
   "cell_type": "code",
   "execution_count": 10,
   "metadata": {},
   "outputs": [
    {
     "name": "stderr",
     "output_type": "stream",
     "text": [
      "C:\\Users\\arani\\AppData\\Local\\Temp\\ipykernel_6456\\2087053952.py:2: MovedIn20Warning: The ``declarative_base()`` function is now available as sqlalchemy.orm.declarative_base(). (deprecated since: 2.0) (Background on SQLAlchemy 2.0 at: https://sqlalche.me/e/b8d9)\n",
      "  Base = declarative_base()\n"
     ]
    },
    {
     "name": "stdout",
     "output_type": "stream",
     "text": [
      "Connection successful and tables created.\n"
     ]
    }
   ],
   "source": [
    "# Create instances of best_destinations and best_hotels\n",
    "Base = declarative_base()\n",
    "\n",
    "# Define the Destination and Hotel tables using class\n",
    "class Best_Destination(Base):\n",
    "    __tablename__ = 'best_destinations'\n",
    "    id = Column(Integer, primary_key=True)\n",
    "    city = Column(String)\n",
    "    lat = Column(Float)\n",
    "    lon = Column(Float)\n",
    "    temp_day = Column(Float)\n",
    "    avg_temp = Column(Float)\n",
    "    description = Column(String)\n",
    "\n",
    "    hotels = relationship(\"Best_Hotel\", back_populates=\"destination\")\n",
    "\n",
    "class Best_Hotel(Base):\n",
    "    __tablename__ = \"best_hotels\"\n",
    "\n",
    "    id = Column(Integer, primary_key=True, autoincrement=True)\n",
    "    city = Column(String) \n",
    "    lat = Column(Float)\n",
    "    lon = Column(Float)\n",
    "    name = Column(String)\n",
    "    score = Column(Float)\n",
    "    description = Column(Text)\n",
    "    url = Column(String)\n",
    "    best_destination_id = Column(Integer, ForeignKey(\"best_destinations.id\"))\n",
    "\n",
    "    destination = relationship(\"Best_Destination\", back_populates=\"hotels\")\n",
    "\n",
    "try:\n",
    "    engine = create_engine(f\"postgresql+psycopg2://{DBUSER}:{DBPASS}@{DBHOST}:{PORT}/{DBNAME}\")\n",
    "    Base.metadata.create_all(engine)\n",
    "    print(\"Connection successful and tables created.\")\n",
    "except Exception as e:\n",
    "    print(f\"Error occurred: {e}\")\n",
    "\n",
    "# Create a session\n",
    "Session = sessionmaker(bind=engine)\n",
    "session = Session()"
   ]
  },
  {
   "cell_type": "markdown",
   "metadata": {},
   "source": [
    "### Insert data into the tables"
   ]
  },
  {
   "cell_type": "code",
   "execution_count": 11,
   "metadata": {},
   "outputs": [
    {
     "name": "stdout",
     "output_type": "stream",
     "text": [
      "Destinations data have been successfully inserted\n",
      "Hotels data have been successfully inserted\n"
     ]
    }
   ],
   "source": [
    "def insert_best_destinations_from_csv(csv_file):\n",
    "    # Read the CSV file\n",
    "    df = pd.read_csv(csv_file)\n",
    "\n",
    "    for _, row in df.iterrows():\n",
    "        destination = Best_Destination(\n",
    "            city=row[\"city\"],\n",
    "            lat=row[\"lat\"],\n",
    "            lon=row[\"lon\"],\n",
    "            temp_day=row[\"temp_day\"],\n",
    "            avg_temp=row[\"avg_temp\"],\n",
    "            description=row[\"description\"],\n",
    "            )\n",
    "        session.add(destination)\n",
    "    session.commit()\n",
    "    print(\"Destinations data have been successfully inserted\")\n",
    "\n",
    "def insert_hotels_from_csv(csv_file):\n",
    "    df = pd.read_csv(csv_file)\n",
    "\n",
    "    for _, row in df.iterrows():\n",
    "        # Trouver l'ID de la destination correspondante\n",
    "        destination = session.query(Best_Destination).filter_by(city=row[\"city\"]).first()\n",
    "        \n",
    "        if destination:\n",
    "            hotel = Best_Hotel(\n",
    "                city=row[\"city\"],\n",
    "                lat=row[\"lat\"],\n",
    "                lon=row[\"lon\"],\n",
    "                name=row[\"name\"],\n",
    "                score=row[\"score\"],\n",
    "                description=row[\"description\"],\n",
    "                url=row[\"url\"],\n",
    "                destination=destination,\n",
    "            )\n",
    "            session.add(hotel)\n",
    "    session.commit()\n",
    "    print(\"Hotels data have been successfully inserted\")\n",
    "\n",
    "# Insert data into the database\n",
    "session.rollback() # Rollback the session to avoid conflicts\n",
    "insert_best_destinations_from_csv(\"results/best_destinations.csv\")\n",
    "insert_hotels_from_csv(\"results/hotels_data.csv\")\n",
    "\n",
    "# Close SQLAlchemy session\n",
    "session.close()"
   ]
  },
  {
   "cell_type": "markdown",
   "metadata": {},
   "source": [
    "### Then, let's make some SQL queries to the database"
   ]
  },
  {
   "cell_type": "markdown",
   "metadata": {},
   "source": [
    "We  need to show the top 5 of destinations below weather is \"ciel dégagé\" and the temperature is greater than 11°C."
   ]
  },
  {
   "cell_type": "code",
   "execution_count": 18,
   "metadata": {},
   "outputs": [
    {
     "name": "stdout",
     "output_type": "stream",
     "text": [
      "Top 5 best destinations :\n",
      "(5, 'Collioure', 42.52505, 3.0831554, 14.51, 11.93142857142857, 'ciel dégagé')\n",
      "(12, 'Collioure', 42.52505, 3.0831554, 14.51, 11.93142857142857, 'ciel dégagé')\n",
      "(6, 'Aigues-Mortes', 43.5661521, 4.19154, 12.48, 11.064285714285717, 'ciel dégagé')\n",
      "(13, 'Aigues-Mortes', 43.5661521, 4.19154, 12.48, 11.064285714285717, 'ciel dégagé')\n",
      "(7, 'Nîmes', 43.8374249, 4.3600687, 12.07, 11.027142857142858, 'ciel dégagé')\n"
     ]
    }
   ],
   "source": [
    "# Create a connection to the database\n",
    "conn = engine.connect()\n",
    "\n",
    "# Query 1 : Select the top 5 of the best destinations\n",
    "query1 = text(\"SELECT * FROM best_destinations ORDER BY temp_day DESC LIMIT 5\")\n",
    "result = conn.execute(query1)\n",
    "\n",
    "print(\"Top 5 best destinations :\")\n",
    "for row in result:\n",
    "    print(row)"
   ]
  },
  {
   "cell_type": "markdown",
   "metadata": {},
   "source": [
    "We need to show the top 20 of hotels below ranking score."
   ]
  },
  {
   "cell_type": "code",
   "execution_count": 23,
   "metadata": {},
   "outputs": [
    {
     "name": "stdout",
     "output_type": "stream",
     "text": [
      "\n",
      "Top 20 best hotels per city in the top 5 destinations:\n",
      "(284, 'Aigues-Mortes', 43.5676511, 4.1915496, 'Maison cosy, 2 chambres, adossée aux remparts', 9.7, 'Situated in Aigues-Mortes in the Languedoc-Roussillon region, Maison cosy, 2 chambres, adossée aux remparts has a terrace. The property is around 24  ... (446 characters truncated) ... \\nMontpellier Town Hall is 31 km from the holiday home, while The Corum is 32 km from the property. Montpellier - Mediterranee Airport is 29 km away.', 'https://www.booking.com/hotel/fr/maison-cosy-2-chambres-adossee-aux-remparts.en-gb.html?aid=304142&label=gen173nr-1FCAQoggJCFHNlYXJjaF9haWd1ZXMgbW9yd ... (158 characters truncated) ... dults=2&no_rooms=1&group_children=0&req_children=0&hpos=22&hapos=22&sr_order=popularity&srpvid=916b8b4adaa1039f&srepoch=1740685717&from=searchresults', 6, 1)\n",
      "(109, 'Aigues-Mortes', 43.5676511, 4.1915496, 'Maison cosy, 2 chambres, adossée aux remparts', 9.7, 'Situated in Aigues-Mortes in the Languedoc-Roussillon region, Maison cosy, 2 chambres, adossée aux remparts has a terrace. The property is around 24  ... (446 characters truncated) ... \\nMontpellier Town Hall is 31 km from the holiday home, while The Corum is 32 km from the property. Montpellier - Mediterranee Airport is 29 km away.', 'https://www.booking.com/hotel/fr/maison-cosy-2-chambres-adossee-aux-remparts.en-gb.html?aid=304142&label=gen173nr-1FCAQoggJCFHNlYXJjaF9haWd1ZXMgbW9yd ... (158 characters truncated) ... dults=2&no_rooms=1&group_children=0&req_children=0&hpos=22&hapos=22&sr_order=popularity&srpvid=916b8b4adaa1039f&srepoch=1740685717&from=searchresults', 6, 2)\n",
      "(295, 'Aigues-Mortes', 43.5661556, 4.192345, 'Marcelle en Camargue', 9.7, 'Situated within 23 km of Parc des Expositions de Montpellier and 24 km of Montpellier Arena, Marcelle en Camargue features rooms with air conditionin ... (810 characters truncated) ... Shopping Centre is 29 km away. Montpellier - Mediterranee Airport is 29 km from the property, and the property offers a paid airport shuttle service.', 'https://www.booking.com/hotel/fr/marcelle-en-camargue.en-gb.html?aid=304142&label=gen173nr-1FCAQoggJCFHNlYXJjaF9haWd1ZXMgbW9ydGVzSDNYBGhNiAEBmAEJuAEX ... (135 characters truncated) ... dults=2&no_rooms=1&group_children=0&req_children=0&hpos=12&hapos=12&sr_order=popularity&srpvid=916b8b4adaa1039f&srepoch=1740685717&from=searchresults', 6, 3)\n",
      "(120, 'Aigues-Mortes', 43.5661556, 4.192345, 'Marcelle en Camargue', 9.7, 'Situated within 23 km of Parc des Expositions de Montpellier and 24 km of Montpellier Arena, Marcelle en Camargue features rooms with air conditionin ... (810 characters truncated) ... Shopping Centre is 29 km away. Montpellier - Mediterranee Airport is 29 km from the property, and the property offers a paid airport shuttle service.', 'https://www.booking.com/hotel/fr/marcelle-en-camargue.en-gb.html?aid=304142&label=gen173nr-1FCAQoggJCFHNlYXJjaF9haWd1ZXMgbW9ydGVzSDNYBGhNiAEBmAEJuAEX ... (135 characters truncated) ... dults=2&no_rooms=1&group_children=0&req_children=0&hpos=12&hapos=12&sr_order=popularity&srpvid=916b8b4adaa1039f&srepoch=1740685717&from=searchresults', 6, 4)\n",
      "(114, 'Aigues-Mortes', 43.5670859, 4.1938057, 'LESEHAN APPARTEMENT AIGUES MORTES Vue Remparts', 9.6, 'Located in Aigues-Mortes, 23 km from Parc des Expositions de Montpellier and 24 km from Montpellier Arena, LESEHAN APPARTEMENT AIGUES MORTES Vue Remp ... (522 characters truncated) ...  APPARTEMENT AIGUES MORTES Vue Remparts, while Odysseum Shopping Centre is 29 km away. Montpellier - Mediterranee Airport is 29 km from the property.', 'https://www.booking.com/hotel/fr/appartement-70m2-vue-rempart.en-gb.html?aid=304142&label=gen173nr-1FCAQoggJCFHNlYXJjaF9haWd1ZXMgbW9ydGVzSDNYBGhNiAEB ... (143 characters truncated) ... dults=2&no_rooms=1&group_children=0&req_children=0&hpos=17&hapos=17&sr_order=popularity&srpvid=916b8b4adaa1039f&srepoch=1740685717&from=searchresults', 6, 5)\n",
      "(289, 'Aigues-Mortes', 43.5670859, 4.1938057, 'LESEHAN APPARTEMENT AIGUES MORTES Vue Remparts', 9.6, 'Located in Aigues-Mortes, 23 km from Parc des Expositions de Montpellier and 24 km from Montpellier Arena, LESEHAN APPARTEMENT AIGUES MORTES Vue Remp ... (522 characters truncated) ...  APPARTEMENT AIGUES MORTES Vue Remparts, while Odysseum Shopping Centre is 29 km away. Montpellier - Mediterranee Airport is 29 km from the property.', 'https://www.booking.com/hotel/fr/appartement-70m2-vue-rempart.en-gb.html?aid=304142&label=gen173nr-1FCAQoggJCFHNlYXJjaF9haWd1ZXMgbW9ydGVzSDNYBGhNiAEB ... (143 characters truncated) ... dults=2&no_rooms=1&group_children=0&req_children=0&hpos=17&hapos=17&sr_order=popularity&srpvid=916b8b4adaa1039f&srepoch=1740685717&from=searchresults', 6, 6)\n",
      "(231, 'Aigues-Mortes', 43.5653584, 4.1927502, 'Appartements 3 étoiles terrasse ou patio intra-muros', 9.6, 'Appartements 3 étoiles terrasse ou patio intra-muros in Aigues-Mortes provides adults-only accommodation with a casino and barbecue facilities. There ... (901 characters truncated) ... de Montpellier is 23 km from the accommodation, while Montpellier Arena is 24 km away. Montpellier - Mediterranee Airport is 29 km from the property.', 'https://www.booking.com/hotel/fr/appartement-3-etoiles-terrasse-intra-muros.en-gb.html?aid=304142&label=gen173nr-1FCAQoggJCFHNlYXJjaF9haWd1ZXMgbW9ydG ... (157 characters truncated) ... dults=2&no_rooms=1&group_children=0&req_children=0&hpos=25&hapos=25&sr_order=popularity&srpvid=916b8b4adaa1039f&srepoch=1740685717&from=searchresults', 6, 7)\n",
      "(56, 'Aigues-Mortes', 43.5653584, 4.1927502, 'Appartements 3 étoiles terrasse ou patio intra-muros', 9.6, 'Appartements 3 étoiles terrasse ou patio intra-muros in Aigues-Mortes provides adults-only accommodation with a casino and barbecue facilities. There ... (901 characters truncated) ... de Montpellier is 23 km from the accommodation, while Montpellier Arena is 24 km away. Montpellier - Mediterranee Airport is 29 km from the property.', 'https://www.booking.com/hotel/fr/appartement-3-etoiles-terrasse-intra-muros.en-gb.html?aid=304142&label=gen173nr-1FCAQoggJCFHNlYXJjaF9haWd1ZXMgbW9ydG ... (157 characters truncated) ... dults=2&no_rooms=1&group_children=0&req_children=0&hpos=25&hapos=25&sr_order=popularity&srpvid=916b8b4adaa1039f&srepoch=1740685717&from=searchresults', 6, 8)\n",
      "(293, 'Aigues-Mortes', 43.5546913, 4.1841735, 'Nuits Salines Aigues-Mortes', 9.5, 'Located in Aigues-Mortes, within 26 km of Parc des Expositions de Montpellier and 27 km of Montpellier Arena, Nuits Salines Aigues-Mortes provides ac ... (703 characters truncated) ...  31 km from Nuits Salines Aigues-Mortes, while Odysseum Shopping Centre is 32 km away. Montpellier - Mediterranee Airport is 33 km from the property.', 'https://www.booking.com/hotel/fr/cabane-du-saunier-au-commun-electre.en-gb.html?aid=304142&label=gen173nr-1FCAQoggJCFHNlYXJjaF9haWd1ZXMgbW9ydGVzSDNYB ... (150 characters truncated) ... dults=2&no_rooms=1&group_children=0&req_children=0&hpos=14&hapos=14&sr_order=popularity&srpvid=916b8b4adaa1039f&srepoch=1740685717&from=searchresults', 6, 9)\n",
      "(127, 'Aigues-Mortes', 43.566074978303, 4.192578573016, 'Lou Mirèio', 9.5, 'Set in Aigues-Mortes, 23 km from Parc des Expositions de Montpellier and 24 km from Montpellier Arena, Lou Mirèio offers air conditioning. The proper ... (483 characters truncated) ... dproofing.\\n\\nThe Corum is 32 km from the apartment, while Fabre Museum is 32 km from the property. Montpellier - Mediterranee Airport is 29 km away.', 'https://www.booking.com/hotel/fr/42-rue-pasteur.en-gb.html?aid=304142&label=gen173nr-1FCAQoggJCFHNlYXJjaF9haWd1ZXMgbW9ydGVzSDNYBGhNiAEBmAEJuAEXyAEM2A ... (127 characters truncated) ... _adults=2&no_rooms=1&group_children=0&req_children=0&hpos=4&hapos=4&sr_order=popularity&srpvid=916b8b4adaa1039f&srepoch=1740685717&from=searchresults', 6, 10)\n",
      "(112, 'Aigues-Mortes', 43.5645341, 4.1922299, 'chez sandrou', 9.5, 'Set in Aigues-Mortes, 23 km from Parc des Expositions de Montpellier and 24 km from Montpellier Arena, chez sandrou offers air-conditioned accommodat ... (533 characters truncated) ... \\nMontpellier Town Hall is 31 km from the holiday home, while The Corum is 32 km from the property. Montpellier - Mediterranee Airport is 29 km away.', 'https://www.booking.com/hotel/fr/chez-sandrou.en-gb.html?aid=304142&label=gen173nr-1FCAQoggJCFHNlYXJjaF9haWd1ZXMgbW9ydGVzSDNYBGhNiAEBmAEJuAEXyAEM2AEB ... (127 characters truncated) ... dults=2&no_rooms=1&group_children=0&req_children=0&hpos=18&hapos=18&sr_order=popularity&srpvid=916b8b4adaa1039f&srepoch=1740685717&from=searchresults', 6, 11)\n",
      "(298, 'Aigues-Mortes', 43.551869598457394, 4.168102441680905, 'La Maison du Môle', 9.5, 'Set in Aigues-Mortes and only 21 km from Parc des Expositions de Montpellier, La Maison du Môle offers accommodation with lake views, free WiFi and f ... (712 characters truncated) ... pellier is 26 km from La Maison du Môle, while Odysseum Shopping Centre is 27 km from the property. Montpellier - Mediterranee Airport is 27 km away.', 'https://www.booking.com/hotel/fr/la-maison-du-mole.en-gb.html?aid=304142&label=gen173nr-1FCAQoggJCFHNlYXJjaF9haWd1ZXMgbW9ydGVzSDNYBGhNiAEBmAEJuAEXyAE ... (132 characters truncated) ... dults=2&no_rooms=1&group_children=0&req_children=0&hpos=11&hapos=11&sr_order=popularity&srpvid=916b8b4adaa1039f&srepoch=1740685717&from=searchresults', 6, 12)\n",
      "(110, 'Aigues-Mortes', 43.5747463, 4.1883983, 'Marina Aigues Mortes 75m2', 9.5, 'Boasting air-conditioned accommodation with a balcony, Marina Aigues Mortes 75m2 is set in Aigues-Mortes. This property offers access to a terrace, f ... (388 characters truncated) ... lier Arena is 24 km from the holiday home, while Zenith Sud Montpellier is 28 km from the property. Montpellier - Mediterranee Airport is 30 km away.', 'https://www.booking.com/hotel/fr/marina-aigues-mortes-75m2.en-gb.html?aid=304142&label=gen173nr-1FCAQoggJCFHNlYXJjaF9haWd1ZXMgbW9ydGVzSDNYBGhNiAEBmAE ... (140 characters truncated) ... dults=2&no_rooms=1&group_children=0&req_children=0&hpos=21&hapos=21&sr_order=popularity&srpvid=916b8b4adaa1039f&srepoch=1740685717&from=searchresults', 6, 13)\n",
      "(285, 'Aigues-Mortes', 43.5747463, 4.1883983, 'Marina Aigues Mortes 75m2', 9.5, 'Boasting air-conditioned accommodation with a balcony, Marina Aigues Mortes 75m2 is set in Aigues-Mortes. This property offers access to a terrace, f ... (388 characters truncated) ... lier Arena is 24 km from the holiday home, while Zenith Sud Montpellier is 28 km from the property. Montpellier - Mediterranee Airport is 30 km away.', 'https://www.booking.com/hotel/fr/marina-aigues-mortes-75m2.en-gb.html?aid=304142&label=gen173nr-1FCAQoggJCFHNlYXJjaF9haWd1ZXMgbW9ydGVzSDNYBGhNiAEBmAE ... (140 characters truncated) ... dults=2&no_rooms=1&group_children=0&req_children=0&hpos=21&hapos=21&sr_order=popularity&srpvid=916b8b4adaa1039f&srepoch=1740685717&from=searchresults', 6, 14)\n",
      "(302, 'Aigues-Mortes', 43.566074978303, 4.192578573016, 'Lou Mirèio', 9.5, 'Set in Aigues-Mortes, 23 km from Parc des Expositions de Montpellier and 24 km from Montpellier Arena, Lou Mirèio offers air conditioning. The proper ... (483 characters truncated) ... dproofing.\\n\\nThe Corum is 32 km from the apartment, while Fabre Museum is 32 km from the property. Montpellier - Mediterranee Airport is 29 km away.', 'https://www.booking.com/hotel/fr/42-rue-pasteur.en-gb.html?aid=304142&label=gen173nr-1FCAQoggJCFHNlYXJjaF9haWd1ZXMgbW9ydGVzSDNYBGhNiAEBmAEJuAEXyAEM2A ... (127 characters truncated) ... _adults=2&no_rooms=1&group_children=0&req_children=0&hpos=4&hapos=4&sr_order=popularity&srpvid=916b8b4adaa1039f&srepoch=1740685717&from=searchresults', 6, 15)\n",
      "(123, 'Aigues-Mortes', 43.551869598457394, 4.168102441680905, 'La Maison du Môle', 9.5, 'Set in Aigues-Mortes and only 21 km from Parc des Expositions de Montpellier, La Maison du Môle offers accommodation with lake views, free WiFi and f ... (712 characters truncated) ... pellier is 26 km from La Maison du Môle, while Odysseum Shopping Centre is 27 km from the property. Montpellier - Mediterranee Airport is 27 km away.', 'https://www.booking.com/hotel/fr/la-maison-du-mole.en-gb.html?aid=304142&label=gen173nr-1FCAQoggJCFHNlYXJjaF9haWd1ZXMgbW9ydGVzSDNYBGhNiAEBmAEJuAEXyAE ... (132 characters truncated) ... dults=2&no_rooms=1&group_children=0&req_children=0&hpos=11&hapos=11&sr_order=popularity&srpvid=916b8b4adaa1039f&srepoch=1740685717&from=searchresults', 6, 16)\n",
      "(287, 'Aigues-Mortes', 43.5645341, 4.1922299, 'chez sandrou', 9.5, 'Set in Aigues-Mortes, 23 km from Parc des Expositions de Montpellier and 24 km from Montpellier Arena, chez sandrou offers air-conditioned accommodat ... (533 characters truncated) ... \\nMontpellier Town Hall is 31 km from the holiday home, while The Corum is 32 km from the property. Montpellier - Mediterranee Airport is 29 km away.', 'https://www.booking.com/hotel/fr/chez-sandrou.en-gb.html?aid=304142&label=gen173nr-1FCAQoggJCFHNlYXJjaF9haWd1ZXMgbW9ydGVzSDNYBGhNiAEBmAEJuAEXyAEM2AEB ... (127 characters truncated) ... dults=2&no_rooms=1&group_children=0&req_children=0&hpos=18&hapos=18&sr_order=popularity&srpvid=916b8b4adaa1039f&srepoch=1740685717&from=searchresults', 6, 17)\n",
      "(118, 'Aigues-Mortes', 43.5546913, 4.1841735, 'Nuits Salines Aigues-Mortes', 9.5, 'Located in Aigues-Mortes, within 26 km of Parc des Expositions de Montpellier and 27 km of Montpellier Arena, Nuits Salines Aigues-Mortes provides ac ... (703 characters truncated) ...  31 km from Nuits Salines Aigues-Mortes, while Odysseum Shopping Centre is 32 km away. Montpellier - Mediterranee Airport is 33 km from the property.', 'https://www.booking.com/hotel/fr/cabane-du-saunier-au-commun-electre.en-gb.html?aid=304142&label=gen173nr-1FCAQoggJCFHNlYXJjaF9haWd1ZXMgbW9ydGVzSDNYB ... (150 characters truncated) ... dults=2&no_rooms=1&group_children=0&req_children=0&hpos=14&hapos=14&sr_order=popularity&srpvid=916b8b4adaa1039f&srepoch=1740685717&from=searchresults', 6, 18)\n",
      "(57, 'Aigues-Mortes', 43.5716095, 4.1895776, '11 le tadorne', 9.2, 'Set in Aigues-Mortes, 24 km from Parc des Expositions de Montpellier and 25 km from Montpellier Arena, 11 le tadorne offers a terrace and air conditi ... (485 characters truncated) ... hopping Centre is 29 km from 11 le tadorne, while Montpellier Town Hall is 32 km from the property. Montpellier - Mediterranee Airport is 30 km away.', 'https://www.booking.com/hotel/fr/11-le-tadorne.en-gb.html?aid=304142&label=gen173nr-1FCAQoggJCFHNlYXJjaF9haWd1ZXMgbW9ydGVzSDNYBGhNiAEBmAEJuAEXyAEM2AE ... (128 characters truncated) ... dults=2&no_rooms=1&group_children=0&req_children=0&hpos=24&hapos=24&sr_order=popularity&srpvid=916b8b4adaa1039f&srepoch=1740685717&from=searchresults', 6, 19)\n",
      "(125, 'Aigues-Mortes', 43.56498661964503, 4.191751956841472, 'La Villa Mazarin', 9.2, \"Property Description\\nSet in a building dating from the 15th century, La Villa Mazarin is located in the fortified city of Aigues-Mortes. It offers a ... (1052 characters truncated) ... 26°).\\n\\nMontpellier is 35 km from La Villa Mazarin, while Nîmes is 43 km away. The nearest airport is Mediterranee Airport, 25 km from the property.\", 'https://www.booking.com/hotel/fr/la-villa-mazarin.en-gb.html?aid=304142&label=gen173nr-1FCAQoggJCFHNlYXJjaF9haWd1ZXMgbW9ydGVzSDNYBGhNiAEBmAEJuAEXyAEM ... (129 characters truncated) ... _adults=2&no_rooms=1&group_children=0&req_children=0&hpos=7&hapos=7&sr_order=popularity&srpvid=916b8b4adaa1039f&srepoch=1740685717&from=searchresults', 6, 20)\n",
      "(63, 'Collioure', 42.5293095, 3.0777366, 'Appartement rénové 42 m2 terrasse,parking privé', 9.5, 'Offering city views, Appartement rénové 42 m2 terrasse, parking privé is an accommodation set in Collioure, less than 1 km from Nord Beach and 1.9 km ... (435 characters truncated) ... e Royal Castle is 700 metres from the apartment, while Stade Gilbert Brutus is 32 km away. Perpignan - Rivesaltes Airport is 43 km from the property.', 'https://www.booking.com/hotel/fr/appartement-renove-42-m2-terrasse-parking-prive.en-gb.html?aid=304142&label=gen173nr-1FCAQoggJCEHNlYXJjaF9jb2xsaW91c ... (156 characters truncated) ... dults=2&no_rooms=1&group_children=0&req_children=0&hpos=19&hapos=19&sr_order=popularity&srpvid=21418b4a916a027f&srepoch=1740685717&from=searchresults', 5, 1)\n",
      "(250, 'Collioure', 42.52182291325428, 3.0937092098175123, \"L'Escale de Collioure - Climatisé, parking privé sécurisé, vue mer\", 9.5, \"Set in Collioure and only 500 metres from Reguers Beach, L'Escale de Collioure - Climatisé, parking privé sécurisé, vue mer offers accommodation with ... (342 characters truncated) ... e Beach is less than 1 km from the apartment, while Collioure Royal Castle is 1.7 km from the property. Perpignan - Rivesaltes Airport is 43 km away.\", 'https://www.booking.com/hotel/fr/escale-de-collioure-climatise-parking-prive-securise-vue-mer.en-gb.html?aid=304142&label=gen173nr-1FCAQoggJCEHNlYXJj ... (167 characters truncated) ... _adults=2&no_rooms=1&group_children=0&req_children=0&hpos=5&hapos=5&sr_order=popularity&srpvid=21418b4a916a027f&srepoch=1740685717&from=searchresults', 5, 2)\n",
      "(75, 'Collioure', 42.52182291325428, 3.0937092098175123, \"L'Escale de Collioure - Climatisé, parking privé sécurisé, vue mer\", 9.5, \"Set in Collioure and only 500 metres from Reguers Beach, L'Escale de Collioure - Climatisé, parking privé sécurisé, vue mer offers accommodation with ... (342 characters truncated) ... e Beach is less than 1 km from the apartment, while Collioure Royal Castle is 1.7 km from the property. Perpignan - Rivesaltes Airport is 43 km away.\", 'https://www.booking.com/hotel/fr/escale-de-collioure-climatise-parking-prive-securise-vue-mer.en-gb.html?aid=304142&label=gen173nr-1FCAQoggJCEHNlYXJj ... (167 characters truncated) ... _adults=2&no_rooms=1&group_children=0&req_children=0&hpos=5&hapos=5&sr_order=popularity&srpvid=21418b4a916a027f&srepoch=1740685717&from=searchresults', 5, 3)\n",
      "(238, 'Collioure', 42.5293095, 3.0777366, 'Appartement rénové 42 m2 terrasse,parking privé', 9.5, 'Offering city views, Appartement rénové 42 m2 terrasse, parking privé is an accommodation set in Collioure, less than 1 km from Nord Beach and 1.9 km ... (435 characters truncated) ... e Royal Castle is 700 metres from the apartment, while Stade Gilbert Brutus is 32 km away. Perpignan - Rivesaltes Airport is 43 km from the property.', 'https://www.booking.com/hotel/fr/appartement-renove-42-m2-terrasse-parking-prive.en-gb.html?aid=304142&label=gen173nr-1FCAQoggJCEHNlYXJjaF9jb2xsaW91c ... (156 characters truncated) ... dults=2&no_rooms=1&group_children=0&req_children=0&hpos=19&hapos=19&sr_order=popularity&srpvid=21418b4a916a027f&srepoch=1740685717&from=searchresults', 5, 4)\n",
      "(82, 'Collioure', 42.5244310979188, 3.09031585214175, 'Canta la Mar - Vue exceptionnelle', 9.4, 'Offering a garden and mountain view, Canta la Mar - Vue exceptionnelle is located in Collioure, 200 metres from Balette Beach and 500 metres from Bou ... (736 characters truncated) ... s 1.1 km from Canta la Mar - Vue exceptionnelle, while Stade Gilbert Brutus is 36 km away. Perpignan - Rivesaltes Airport is 44 km from the property.', 'https://www.booking.com/hotel/fr/studio-canta-la-mar-vue-exceptionnelle.en-gb.html?aid=304142&label=gen173nr-1FCAQoggJCEHNlYXJjaF9jb2xsaW91cmVIM1gEaE ... (145 characters truncated) ... _adults=2&no_rooms=1&group_children=0&req_children=0&hpos=1&hapos=1&sr_order=popularity&srpvid=21418b4a916a027f&srepoch=1740685717&from=searchresults', 5, 5)\n",
      "(257, 'Collioure', 42.5244310979188, 3.09031585214175, 'Canta la Mar - Vue exceptionnelle', 9.4, 'Offering a garden and mountain view, Canta la Mar - Vue exceptionnelle is located in Collioure, 200 metres from Balette Beach and 500 metres from Bou ... (736 characters truncated) ... s 1.1 km from Canta la Mar - Vue exceptionnelle, while Stade Gilbert Brutus is 36 km away. Perpignan - Rivesaltes Airport is 44 km from the property.', 'https://www.booking.com/hotel/fr/studio-canta-la-mar-vue-exceptionnelle.en-gb.html?aid=304142&label=gen173nr-1FCAQoggJCEHNlYXJjaF9jb2xsaW91cmVIM1gEaE ... (145 characters truncated) ... _adults=2&no_rooms=1&group_children=0&req_children=0&hpos=1&hapos=1&sr_order=popularity&srpvid=21418b4a916a027f&srepoch=1740685717&from=searchresults', 5, 6)\n",
      "(242, 'Collioure', 42.52709583002456, 3.084523551537904, 'Fenêtre sur Collioure', 9.4, 'A recently renovated property, Fenêtre sur Collioure is set in Collioure near Nord Beach, Saint Vincent Beach and Boutigue Beach. The property featur ... (470 characters truncated) ...  Castle is 80 metres from Fenêtre sur Collioure, while Stade Gilbert Brutus is 33 km away. Perpignan - Rivesaltes Airport is 41 km from the property.', 'https://www.booking.com/hotel/fr/fenetre-sur-collioure.en-gb.html?aid=304142&label=gen173nr-1FCAQoggJCEHNlYXJjaF9jb2xsaW91cmVIM1gEaE2IAQGYAQm4ARfIAQz ... (130 characters truncated) ... dults=2&no_rooms=1&group_children=0&req_children=0&hpos=16&hapos=16&sr_order=popularity&srpvid=21418b4a916a027f&srepoch=1740685717&from=searchresults', 5, 7)\n",
      "(67, 'Collioure', 42.52709583002456, 3.084523551537904, 'Fenêtre sur Collioure', 9.4, 'A recently renovated property, Fenêtre sur Collioure is set in Collioure near Nord Beach, Saint Vincent Beach and Boutigue Beach. The property featur ... (470 characters truncated) ...  Castle is 80 metres from Fenêtre sur Collioure, while Stade Gilbert Brutus is 33 km away. Perpignan - Rivesaltes Airport is 41 km from the property.', 'https://www.booking.com/hotel/fr/fenetre-sur-collioure.en-gb.html?aid=304142&label=gen173nr-1FCAQoggJCEHNlYXJjaF9jb2xsaW91cmVIM1gEaE2IAQGYAQm4ARfIAQz ... (130 characters truncated) ... dults=2&no_rooms=1&group_children=0&req_children=0&hpos=16&hapos=16&sr_order=popularity&srpvid=21418b4a916a027f&srepoch=1740685717&from=searchresults', 5, 8)\n",
      "(72, 'Collioure', 42.52298767656799, 3.087329664129035, 'Studio Centre Plage parking gratuit', 9.2, 'Offering quiet street views, Studio Centre Plage parking gratuit is an accommodation situated in Collioure, 300 metres from Port Avall Beach and 300  ... (501 characters truncated) ... r Beach is 800 metres from the apartment, while Collioure Royal Castle is 700 metres away. Perpignan - Rivesaltes Airport is 42 km from the property.', 'https://www.booking.com/hotel/fr/studio-centre-plage-collioure.en-gb.html?aid=304142&label=gen173nr-1FCAQoggJCEHNlYXJjaF9jb2xsaW91cmVIM1gEaE2IAQGYAQm ... (138 characters truncated) ... dults=2&no_rooms=1&group_children=0&req_children=0&hpos=14&hapos=14&sr_order=popularity&srpvid=21418b4a916a027f&srepoch=1740685717&from=searchresults', 5, 9)\n",
      "(77, 'Collioure', 42.52534777273077, 3.0903244632682725, 'Les Roches Brunes', 9.2, 'Located in Collioure, 70 metres from Balette Beach, Les Roches Brunes provides accommodation with a garden, free private parking, a terrace and a res ... (587 characters truncated) ... interest near the accommodation include Boutigue Beach, Saint Vincent Beach and Collioure Royal Castle. Perpignan - Rivesaltes Airport is 42 km away.', 'https://www.booking.com/hotel/fr/les-roches-brunes-collioure.en-gb.html?aid=304142&label=gen173nr-1FCAQoggJCEHNlYXJjaF9jb2xsaW91cmVIM1gEaE2IAQGYAQm4A ... (134 characters truncated) ... _adults=2&no_rooms=1&group_children=0&req_children=0&hpos=3&hapos=3&sr_order=popularity&srpvid=21418b4a916a027f&srepoch=1740685717&from=searchresults', 5, 10)\n",
      "(241, 'Collioure', 42.527543, 3.085355, 'Boramar', 9.2, 'Boramar is a beachfront property located in Collioure, 90 metres from Nord Beach and 100 metres from Saint Vincent Beach. The 3-star apartment has mo ... (662 characters truncated) ... ts of interest near the accommodation include Boutigue Beach, Balette Beach and Collioure Royal Castle. Perpignan - Rivesaltes Airport is 41 km away.', 'https://www.booking.com/hotel/fr/boramar.en-gb.html?aid=304142&label=gen173nr-1FCAQoggJCEHNlYXJjaF9jb2xsaW91cmVIM1gEaE2IAQGYAQm4ARfIAQzYAQHoAQH4AQOIA ... (116 characters truncated) ... dults=2&no_rooms=1&group_children=0&req_children=0&hpos=17&hapos=17&sr_order=popularity&srpvid=21418b4a916a027f&srepoch=1740685717&from=searchresults', 5, 11)\n",
      "(247, 'Collioure', 42.52298767656799, 3.087329664129035, 'Studio Centre Plage parking gratuit', 9.2, 'Offering quiet street views, Studio Centre Plage parking gratuit is an accommodation situated in Collioure, 300 metres from Port Avall Beach and 300  ... (501 characters truncated) ... r Beach is 800 metres from the apartment, while Collioure Royal Castle is 700 metres away. Perpignan - Rivesaltes Airport is 42 km from the property.', 'https://www.booking.com/hotel/fr/studio-centre-plage-collioure.en-gb.html?aid=304142&label=gen173nr-1FCAQoggJCEHNlYXJjaF9jb2xsaW91cmVIM1gEaE2IAQGYAQm ... (138 characters truncated) ... dults=2&no_rooms=1&group_children=0&req_children=0&hpos=14&hapos=14&sr_order=popularity&srpvid=21418b4a916a027f&srepoch=1740685717&from=searchresults', 5, 12)\n",
      "(252, 'Collioure', 42.52534777273077, 3.0903244632682725, 'Les Roches Brunes', 9.2, 'Located in Collioure, 70 metres from Balette Beach, Les Roches Brunes provides accommodation with a garden, free private parking, a terrace and a res ... (587 characters truncated) ... interest near the accommodation include Boutigue Beach, Saint Vincent Beach and Collioure Royal Castle. Perpignan - Rivesaltes Airport is 42 km away.', 'https://www.booking.com/hotel/fr/les-roches-brunes-collioure.en-gb.html?aid=304142&label=gen173nr-1FCAQoggJCEHNlYXJjaF9jb2xsaW91cmVIM1gEaE2IAQGYAQm4A ... (134 characters truncated) ... _adults=2&no_rooms=1&group_children=0&req_children=0&hpos=3&hapos=3&sr_order=popularity&srpvid=21418b4a916a027f&srepoch=1740685717&from=searchresults', 5, 13)\n",
      "(254, 'Collioure', 42.5288828, 3.0793938, 'Maison Nova - Boutique Hôtel & Spa', 9.2, 'Set in Collioure, 600 metres from Boramar Beach, Maison Nova - Boutique Hôtel & Spa offers accommodation with an outdoor swimming pool, free private  ... (640 characters truncated) ... n Nova - Boutique Hôtel & Spa include Nord Beach, Ouille Beach and Collioure Royal Castle. Perpignan - Rivesaltes Airport is 41 km from the property.', 'https://www.booking.com/hotel/fr/boutique-maison-nova.en-gb.html?aid=304142&label=gen173nr-1FCAQoggJCEHNlYXJjaF9jb2xsaW91cmVIM1gEaE2IAQGYAQm4ARfIAQzY ... (127 characters truncated) ... _adults=2&no_rooms=1&group_children=0&req_children=0&hpos=9&hapos=9&sr_order=popularity&srpvid=21418b4a916a027f&srepoch=1740685717&from=searchresults', 5, 14)\n",
      "(239, 'Collioure', 42.5273128, 3.0847519, 'Au Coeur de Collioure', 9.2, 'Located in Collioure in the Languedoc-Roussillon region, Au Coeur de Collioure features a balcony and city views. This beachfront property offers acc ... (402 characters truncated) ... interest near Au Coeur de Collioure include Nord Beach, Saint Vincent Beach and Collioure Royal Castle. Perpignan - Rivesaltes Airport is 43 km away.', 'https://www.booking.com/hotel/fr/au-coeur-de-collioure-collioure.en-gb.html?aid=304142&label=gen173nr-1FCAQoggJCEHNlYXJjaF9jb2xsaW91cmVIM1gEaE2IAQGYA ... (140 characters truncated) ... dults=2&no_rooms=1&group_children=0&req_children=0&hpos=22&hapos=22&sr_order=popularity&srpvid=21418b4a916a027f&srepoch=1740685717&from=searchresults', 5, 15)\n",
      "(79, 'Collioure', 42.5288828, 3.0793938, 'Maison Nova - Boutique Hôtel & Spa', 9.2, 'Set in Collioure, 600 metres from Boramar Beach, Maison Nova - Boutique Hôtel & Spa offers accommodation with an outdoor swimming pool, free private  ... (640 characters truncated) ... n Nova - Boutique Hôtel & Spa include Nord Beach, Ouille Beach and Collioure Royal Castle. Perpignan - Rivesaltes Airport is 41 km from the property.', 'https://www.booking.com/hotel/fr/boutique-maison-nova.en-gb.html?aid=304142&label=gen173nr-1FCAQoggJCEHNlYXJjaF9jb2xsaW91cmVIM1gEaE2IAQGYAQm4ARfIAQzY ... (127 characters truncated) ... _adults=2&no_rooms=1&group_children=0&req_children=0&hpos=9&hapos=9&sr_order=popularity&srpvid=21418b4a916a027f&srepoch=1740685717&from=searchresults', 5, 16)\n",
      "(66, 'Collioure', 42.527543, 3.085355, 'Boramar', 9.2, 'Boramar is a beachfront property located in Collioure, 90 metres from Nord Beach and 100 metres from Saint Vincent Beach. The 3-star apartment has mo ... (662 characters truncated) ... ts of interest near the accommodation include Boutigue Beach, Balette Beach and Collioure Royal Castle. Perpignan - Rivesaltes Airport is 41 km away.', 'https://www.booking.com/hotel/fr/boramar.en-gb.html?aid=304142&label=gen173nr-1FCAQoggJCEHNlYXJjaF9jb2xsaW91cmVIM1gEaE2IAQGYAQm4ARfIAQzYAQHoAQH4AQOIA ... (116 characters truncated) ... dults=2&no_rooms=1&group_children=0&req_children=0&hpos=17&hapos=17&sr_order=popularity&srpvid=21418b4a916a027f&srepoch=1740685717&from=searchresults', 5, 17)\n",
      "(64, 'Collioure', 42.5273128, 3.0847519, 'Au Coeur de Collioure', 9.2, 'Located in Collioure in the Languedoc-Roussillon region, Au Coeur de Collioure features a balcony and city views. This beachfront property offers acc ... (402 characters truncated) ... interest near Au Coeur de Collioure include Nord Beach, Saint Vincent Beach and Collioure Royal Castle. Perpignan - Rivesaltes Airport is 43 km away.', 'https://www.booking.com/hotel/fr/au-coeur-de-collioure-collioure.en-gb.html?aid=304142&label=gen173nr-1FCAQoggJCEHNlYXJjaF9jb2xsaW91cmVIM1gEaE2IAQGYA ... (140 characters truncated) ... dults=2&no_rooms=1&group_children=0&req_children=0&hpos=22&hapos=22&sr_order=popularity&srpvid=21418b4a916a027f&srepoch=1740685717&from=searchresults', 5, 18)\n",
      "(237, 'Collioure', 42.52389238080244, 3.08739067301633, 'Résidence Collioure Plage', 9.1, 'Located within a few steps of Boutigue Beach and 200 metres of Port Avall Beach, Résidence Collioure Plage offers rooms with air conditioning and a p ... (758 characters truncated) ... ach is 200 metres from the accommodation, while Collioure Royal Castle is 600 metres away. Perpignan - Rivesaltes Airport is 42 km from the property.', 'https://www.booking.com/hotel/fr/residence-collioure-plage-appart.en-gb.html?aid=304142&label=gen173nr-1FCAQoggJCEHNlYXJjaF9jb2xsaW91cmVIM1gEaE2IAQGY ... (141 characters truncated) ... dults=2&no_rooms=1&group_children=0&req_children=0&hpos=21&hapos=21&sr_order=popularity&srpvid=21418b4a916a027f&srepoch=1740685717&from=searchresults', 5, 19)\n",
      "(62, 'Collioure', 42.52389238080244, 3.08739067301633, 'Résidence Collioure Plage', 9.1, 'Located within a few steps of Boutigue Beach and 200 metres of Port Avall Beach, Résidence Collioure Plage offers rooms with air conditioning and a p ... (758 characters truncated) ... ach is 200 metres from the accommodation, while Collioure Royal Castle is 600 metres away. Perpignan - Rivesaltes Airport is 42 km from the property.', 'https://www.booking.com/hotel/fr/residence-collioure-plage-appart.en-gb.html?aid=304142&label=gen173nr-1FCAQoggJCEHNlYXJjaF9jb2xsaW91cmVIM1gEaE2IAQGY ... (141 characters truncated) ... dults=2&no_rooms=1&group_children=0&req_children=0&hpos=21&hapos=21&sr_order=popularity&srpvid=21418b4a916a027f&srepoch=1740685717&from=searchresults', 5, 20)\n",
      "(266, 'Nîmes', 43.870408383047945, 4.404552387779193, \"Mas d'Escattes\", 9.8, \"Featuring an outdoor swimming pool and views of garden, Mas d'Escattes is a bed and breakfast situated in a historic building in Nîmes, 8 km from Par ... (737 characters truncated) ...  Palace is 41 km from Mas d'Escattes, while Avignon TGV Train Station is 43 km away. Nimes-Ales-Camargue-Cevennes Airport is 15 km from the property.\", 'https://www.booking.com/hotel/fr/mas-d-39-escattes.en-gb.html?aid=304142&label=gen173nr-1FCAQoggJCDHNlYXJjaF9uaW1lc0gzWARoTYgBAZgBCbgBF8gBDNgBAegBAfg ... (121 characters truncated) ... dults=2&no_rooms=1&group_children=0&req_children=0&hpos=17&hapos=17&sr_order=popularity&srpvid=38a48b4ade290da7&srepoch=1740685717&from=searchresults', 7, 1)\n",
      "(91, 'Nîmes', 43.870408383047945, 4.404552387779193, \"Mas d'Escattes\", 9.8, \"Featuring an outdoor swimming pool and views of garden, Mas d'Escattes is a bed and breakfast situated in a historic building in Nîmes, 8 km from Par ... (737 characters truncated) ...  Palace is 41 km from Mas d'Escattes, while Avignon TGV Train Station is 43 km away. Nimes-Ales-Camargue-Cevennes Airport is 15 km from the property.\", 'https://www.booking.com/hotel/fr/mas-d-39-escattes.en-gb.html?aid=304142&label=gen173nr-1FCAQoggJCDHNlYXJjaF9uaW1lc0gzWARoTYgBAZgBCbgBF8gBDNgBAegBAfg ... (121 characters truncated) ... dults=2&no_rooms=1&group_children=0&req_children=0&hpos=17&hapos=17&sr_order=popularity&srpvid=38a48b4ade290da7&srepoch=1740685717&from=searchresults', 7, 2)\n",
      "(84, 'Nîmes', 43.831888, 4.3522837, 'Le LUTZ', 9.6, 'Boasting city views, Le LUTZ provides accommodation with a terrace and a balcony, around 2.8 km from Parc Expo Nîmes. The property is around 45 km fr ... (477 characters truncated) ... V Train Station is 47 km from Le LUTZ, while Odysseum Shopping Centre is 47 km from the property. Nimes-Ales-Camargue-Cevennes Airport is 10 km away.', 'https://www.booking.com/hotel/fr/le-lutz.en-gb.html?aid=304142&label=gen173nr-1FCAQoggJCDHNlYXJjaF9uaW1lc0gzWARoTYgBAZgBCbgBF8gBDNgBAegBAfgBA4gCAagCA ... (111 characters truncated) ... dults=2&no_rooms=1&group_children=0&req_children=0&hpos=24&hapos=24&sr_order=popularity&srpvid=38a48b4ade290da7&srepoch=1740685717&from=searchresults', 7, 3)\n",
      "(259, 'Nîmes', 43.831888, 4.3522837, 'Le LUTZ', 9.6, 'Boasting city views, Le LUTZ provides accommodation with a terrace and a balcony, around 2.8 km from Parc Expo Nîmes. The property is around 45 km fr ... (477 characters truncated) ... V Train Station is 47 km from Le LUTZ, while Odysseum Shopping Centre is 47 km from the property. Nimes-Ales-Camargue-Cevennes Airport is 10 km away.', 'https://www.booking.com/hotel/fr/le-lutz.en-gb.html?aid=304142&label=gen173nr-1FCAQoggJCDHNlYXJjaF9uaW1lc0gzWARoTYgBAZgBCbgBF8gBDNgBAegBAfgBA4gCAagCA ... (111 characters truncated) ... dults=2&no_rooms=1&group_children=0&req_children=0&hpos=24&hapos=24&sr_order=popularity&srpvid=38a48b4ade290da7&srepoch=1740685717&from=searchresults', 7, 4)\n",
      "(98, 'Nîmes', 43.8403329, 4.370304, 'Appartement Cosy Nîmes-Centre 2', 9.4, 'Located in Nîmes, 4 km from Parc Expo Nîmes, Appartement Cosy Nîmes-Centre 2 provides recently renovated accommodation with free WiFi and a bar. The  ... (512 characters truncated) ... ain Station is 45 km from the apartment, while Zenith Sud Montpellier is 48 km away. Nimes-Ales-Camargue-Cevennes Airport is 10 km from the property.', 'https://www.booking.com/hotel/fr/appartement-cosy-nimes-centre-2.en-gb.html?aid=304142&label=gen173nr-1FCAQoggJCDHNlYXJjaF9uaW1lc0gzWARoTYgBAZgBCbgBF ... (135 characters truncated) ... dults=2&no_rooms=1&group_children=0&req_children=0&hpos=10&hapos=10&sr_order=popularity&srpvid=38a48b4ade290da7&srepoch=1740685717&from=searchresults', 7, 5)\n",
      "(273, 'Nîmes', 43.8403329, 4.370304, 'Appartement Cosy Nîmes-Centre 2', 9.4, 'Located in Nîmes, 4 km from Parc Expo Nîmes, Appartement Cosy Nîmes-Centre 2 provides recently renovated accommodation with free WiFi and a bar. The  ... (512 characters truncated) ... ain Station is 45 km from the apartment, while Zenith Sud Montpellier is 48 km away. Nimes-Ales-Camargue-Cevennes Airport is 10 km from the property.', 'https://www.booking.com/hotel/fr/appartement-cosy-nimes-centre-2.en-gb.html?aid=304142&label=gen173nr-1FCAQoggJCDHNlYXJjaF9uaW1lc0gzWARoTYgBAZgBCbgBF ... (135 characters truncated) ... dults=2&no_rooms=1&group_children=0&req_children=0&hpos=10&hapos=10&sr_order=popularity&srpvid=38a48b4ade290da7&srepoch=1740685717&from=searchresults', 7, 6)\n",
      "(277, 'Nîmes', 43.833059723729, 4.355228226984, 'Nîmes Centre - A 5 minutes des Arènes', 9.3, 'Set in Nîmes, 3 km from Parc Expo Nîmes, Nîmes Centre - A 5 minutes des Arènes offers recently renovated accommodation with free WiFi and a bar. The  ... (600 characters truncated) ... om Nîmes Centre - A 5 minutes des Arènes, while Zenith Sud Montpellier is 47 km away. Nimes-Ales-Camargue-Cevennes Airport is 9 km from the property.', 'https://www.booking.com/hotel/fr/nimes-centre-votre-espace-cosy.en-gb.html?aid=304142&label=gen173nr-1FCAQoggJCDHNlYXJjaF9uaW1lc0gzWARoTYgBAZgBCbgBF8 ... (132 characters truncated) ... _adults=2&no_rooms=1&group_children=0&req_children=0&hpos=6&hapos=6&sr_order=popularity&srpvid=38a48b4ade290da7&srepoch=1740685717&from=searchresults', 7, 7)\n",
      "(102, 'Nîmes', 43.833059723729, 4.355228226984, 'Nîmes Centre - A 5 minutes des Arènes', 9.3, 'Set in Nîmes, 3 km from Parc Expo Nîmes, Nîmes Centre - A 5 minutes des Arènes offers recently renovated accommodation with free WiFi and a bar. The  ... (600 characters truncated) ... om Nîmes Centre - A 5 minutes des Arènes, while Zenith Sud Montpellier is 47 km away. Nimes-Ales-Camargue-Cevennes Airport is 9 km from the property.', 'https://www.booking.com/hotel/fr/nimes-centre-votre-espace-cosy.en-gb.html?aid=304142&label=gen173nr-1FCAQoggJCDHNlYXJjaF9uaW1lc0gzWARoTYgBAZgBCbgBF8 ... (132 characters truncated) ... _adults=2&no_rooms=1&group_children=0&req_children=0&hpos=6&hapos=6&sr_order=popularity&srpvid=38a48b4ade290da7&srepoch=1740685717&from=searchresults', 7, 8)\n",
      "(268, 'Nîmes', 43.8403329, 4.370304, 'Appartement Cosy Nîmes-Centre', 9.3, 'Located in Nîmes, 34 km from Arles Amphitheatre and 43 km from Avignon Central Station, Appartement Cosy Nîmes-Centre offers air conditioning. It is  ... (572 characters truncated) ... 5 km from Appartement Cosy Nîmes-Centre, while Zenith Sud Montpellier is 48 km away. Nimes-Ales-Camargue-Cevennes Airport is 10 km from the property.', 'https://www.booking.com/hotel/fr/le-67-centre-ville-climatisation-fibre.en-gb.html?aid=304142&label=gen173nr-1FCAQoggJCDHNlYXJjaF9uaW1lc0gzWARoTYgBAZ ... (142 characters truncated) ... dults=2&no_rooms=1&group_children=0&req_children=0&hpos=16&hapos=16&sr_order=popularity&srpvid=38a48b4ade290da7&srepoch=1740685717&from=searchresults', 7, 9)\n",
      "(93, 'Nîmes', 43.8403329, 4.370304, 'Appartement Cosy Nîmes-Centre', 9.3, 'Located in Nîmes, 34 km from Arles Amphitheatre and 43 km from Avignon Central Station, Appartement Cosy Nîmes-Centre offers air conditioning. It is  ... (572 characters truncated) ... 5 km from Appartement Cosy Nîmes-Centre, while Zenith Sud Montpellier is 48 km away. Nimes-Ales-Camargue-Cevennes Airport is 10 km from the property.', 'https://www.booking.com/hotel/fr/le-67-centre-ville-climatisation-fibre.en-gb.html?aid=304142&label=gen173nr-1FCAQoggJCDHNlYXJjaF9uaW1lc0gzWARoTYgBAZ ... (142 characters truncated) ... dults=2&no_rooms=1&group_children=0&req_children=0&hpos=16&hapos=16&sr_order=popularity&srpvid=38a48b4ade290da7&srepoch=1740685717&from=searchresults', 7, 10)\n",
      "(85, 'Nîmes', 43.8185976, 4.3552685, 'La Palm Room ~ Climatisation ~ Balcon ~ Parking', 9.2, 'Set in Nîmes in the Languedoc-Roussillon region, La Palm Room ~ Climatisation ~ Balcon ~ Parking features a terrace. Guests staying at this apartment ... (357 characters truncated) ... Parc Expo Nîmes is 1.1 km from the apartment, while Arles Amphitheatre is 31 km away. Nimes-Ales-Camargue-Cevennes Airport is 9 km from the property.', 'https://www.booking.com/hotel/fr/studio-neuf-amp-moderne-dernier-etage-balcon.en-gb.html?aid=304142&label=gen173nr-1FCAQoggJCDHNlYXJjaF9uaW1lc0gzWARo ... (148 characters truncated) ... dults=2&no_rooms=1&group_children=0&req_children=0&hpos=23&hapos=23&sr_order=popularity&srpvid=38a48b4ade290da7&srepoch=1740685717&from=searchresults', 7, 11)\n",
      "(260, 'Nîmes', 43.8185976, 4.3552685, 'La Palm Room ~ Climatisation ~ Balcon ~ Parking', 9.2, 'Set in Nîmes in the Languedoc-Roussillon region, La Palm Room ~ Climatisation ~ Balcon ~ Parking features a terrace. Guests staying at this apartment ... (357 characters truncated) ... Parc Expo Nîmes is 1.1 km from the apartment, while Arles Amphitheatre is 31 km away. Nimes-Ales-Camargue-Cevennes Airport is 9 km from the property.', 'https://www.booking.com/hotel/fr/studio-neuf-amp-moderne-dernier-etage-balcon.en-gb.html?aid=304142&label=gen173nr-1FCAQoggJCDHNlYXJjaF9uaW1lc0gzWARo ... (148 characters truncated) ... dults=2&no_rooms=1&group_children=0&req_children=0&hpos=23&hapos=23&sr_order=popularity&srpvid=38a48b4ade290da7&srepoch=1740685717&from=searchresults', 7, 12)\n",
      "(83, 'Nîmes', 43.839024221483, 4.357586918385, '060 - Le Littre - Appartement 1 chambre, Central, Proche Maison carrée, Clim, 4personnes', 9.0, 'Located in Nîmes, 34 km from Arles Amphitheatre and 44 km from Avignon Central Station, 060 - Le Littre - Appartement 1 chambre, Central, Proche Mais ... (517 characters truncated) ... l Palace is 44 km from the apartment, while Avignon TGV Train Station is 46 km away. Nimes-Ales-Camargue-Cevennes Airport is 10 km from the property.', 'https://www.booking.com/hotel/fr/le-littre-clim-et-plein-centre.en-gb.html?aid=304142&label=gen173nr-1FCAQoggJCDHNlYXJjaF9uaW1lc0gzWARoTYgBAZgBCbgBF8 ... (134 characters truncated) ... dults=2&no_rooms=1&group_children=0&req_children=0&hpos=25&hapos=25&sr_order=popularity&srpvid=38a48b4ade290da7&srepoch=1740685717&from=searchresults', 7, 13)\n",
      "(258, 'Nîmes', 43.839024221483, 4.357586918385, '060 - Le Littre - Appartement 1 chambre, Central, Proche Maison carrée, Clim, 4personnes', 9.0, 'Located in Nîmes, 34 km from Arles Amphitheatre and 44 km from Avignon Central Station, 060 - Le Littre - Appartement 1 chambre, Central, Proche Mais ... (517 characters truncated) ... l Palace is 44 km from the apartment, while Avignon TGV Train Station is 46 km away. Nimes-Ales-Camargue-Cevennes Airport is 10 km from the property.', 'https://www.booking.com/hotel/fr/le-littre-clim-et-plein-centre.en-gb.html?aid=304142&label=gen173nr-1FCAQoggJCDHNlYXJjaF9uaW1lc0gzWARoTYgBAZgBCbgBF8 ... (134 characters truncated) ... dults=2&no_rooms=1&group_children=0&req_children=0&hpos=25&hapos=25&sr_order=popularity&srpvid=38a48b4ade290da7&srepoch=1740685717&from=searchresults', 7, 14)\n",
      "(92, 'Nîmes', 43.83172268679, 4.357071383575, \"Les Copains d'Abord\", 8.9, \"Situated in Nîmes, 2.3 km from Parc Expo Nîmes and 32 km from Arles Amphitheatre, Les Copains d'Abord features air-conditioned accommodation with a b ... (555 characters truncated) ... ontpellier is 47 km from the apartment, while Odysseum Shopping Centre is 47 km from the property. Nimes-Ales-Camargue-Cevennes Airport is 8 km away.\", 'https://www.booking.com/hotel/fr/les-copains-d-abord-nimes.en-gb.html?aid=304142&label=gen173nr-1FCAQoggJCDHNlYXJjaF9uaW1lc0gzWARoTYgBAZgBCbgBF8gBDNg ... (129 characters truncated) ... dults=2&no_rooms=1&group_children=0&req_children=0&hpos=15&hapos=15&sr_order=popularity&srpvid=38a48b4ade290da7&srepoch=1740685717&from=searchresults', 7, 15)\n",
      "(267, 'Nîmes', 43.83172268679, 4.357071383575, \"Les Copains d'Abord\", 8.9, \"Situated in Nîmes, 2.3 km from Parc Expo Nîmes and 32 km from Arles Amphitheatre, Les Copains d'Abord features air-conditioned accommodation with a b ... (555 characters truncated) ... ontpellier is 47 km from the apartment, while Odysseum Shopping Centre is 47 km from the property. Nimes-Ales-Camargue-Cevennes Airport is 8 km away.\", 'https://www.booking.com/hotel/fr/les-copains-d-abord-nimes.en-gb.html?aid=304142&label=gen173nr-1FCAQoggJCDHNlYXJjaF9uaW1lc0gzWARoTYgBAZgBCbgBF8gBDNg ... (129 characters truncated) ... dults=2&no_rooms=1&group_children=0&req_children=0&hpos=15&hapos=15&sr_order=popularity&srpvid=38a48b4ade290da7&srepoch=1740685717&from=searchresults', 7, 16)\n",
      "(265, 'Nîmes', 43.839707190316, 4.360821622702, \"L'Exception\", 8.8, \"Set in the centre of Nîmes, L'Exception provides accommodation 3.8 km from Parc Expo Nîmes and 34 km from Arles Amphitheatre. The property is located ... (514 characters truncated) ... ntpellier is 48 km from the apartment, while Odysseum Shopping Centre is 49 km from the property. Nimes-Ales-Camargue-Cevennes Airport is 10 km away.\", 'https://www.booking.com/hotel/fr/le-national-nimes.en-gb.html?aid=304142&label=gen173nr-1FCAQoggJCDHNlYXJjaF9uaW1lc0gzWARoTYgBAZgBCbgBF8gBDNgBAegBAfg ... (121 characters truncated) ... dults=2&no_rooms=1&group_children=0&req_children=0&hpos=20&hapos=20&sr_order=popularity&srpvid=38a48b4ade290da7&srepoch=1740685717&from=searchresults', 7, 17)\n",
      "(106, 'Nîmes', 43.8338735348897, 4.361433959524561, \"Appart'City Collection Nîmes Arènes\", 8.8, \"Appart'City Collection Nîmes Arènes is set in the historic centre of Nîmes, a 1-minute walk from the Arena and 300 metres from the train station. Und ... (505 characters truncated) ... veal sausage.\\n\\nThe nearest airport is Nîmes-Alès-Camargue-Cévennes Airport, in Garons/Saint-Gilles, 12 km from Appart'City Collection Nîmes Arènes.\", 'https://www.booking.com/hotel/fr/appart-39-city-nimes.en-gb.html?aid=304142&label=gen173nr-1FCAQoggJCDHNlYXJjaF9uaW1lc0gzWARoTYgBAZgBCbgBF8gBDNgBAegB ... (153 characters truncated) ... dren=0&req_children=0&hpos=1&hapos=1&sr_order=popularity&srpvid=38a48b4ade290da7&srepoch=1740685717&from_sustainable_property_sr=1&from=searchresults', 7, 18)\n",
      "(89, 'Nîmes', 43.8402154336462, 4.362291753967624, \"L'Amazonien - Baby-foot et filet de détente !\", 8.8, \"L'Amazonien - Baby-foot et filet de détente! is a recently renovated apartment in the centre of Nîmes, 3.9 km from Parc Expo Nîmes and 34 km from Arl ... (751 characters truncated) ... lace is 44 km from the accommodation, while Avignon TGV Train Station is 46 km from the property. Nimes-Ales-Camargue-Cevennes Airport is 10 km away.\", 'https://www.booking.com/hotel/fr/amazonien.en-gb.html?aid=304142&label=gen173nr-1FCAQoggJCDHNlYXJjaF9uaW1lc0gzWARoTYgBAZgBCbgBF8gBDNgBAegBAfgBA4gCAag ... (113 characters truncated) ... dults=2&no_rooms=1&group_children=0&req_children=0&hpos=18&hapos=18&sr_order=popularity&srpvid=38a48b4ade290da7&srepoch=1740685717&from=searchresults', 7, 19)\n",
      "(90, 'Nîmes', 43.839707190316, 4.360821622702, \"L'Exception\", 8.8, \"Set in the centre of Nîmes, L'Exception provides accommodation 3.8 km from Parc Expo Nîmes and 34 km from Arles Amphitheatre. The property is located ... (514 characters truncated) ... ntpellier is 48 km from the apartment, while Odysseum Shopping Centre is 49 km from the property. Nimes-Ales-Camargue-Cevennes Airport is 10 km away.\", 'https://www.booking.com/hotel/fr/le-national-nimes.en-gb.html?aid=304142&label=gen173nr-1FCAQoggJCDHNlYXJjaF9uaW1lc0gzWARoTYgBAZgBCbgBF8gBDNgBAegBAfg ... (121 characters truncated) ... dults=2&no_rooms=1&group_children=0&req_children=0&hpos=20&hapos=20&sr_order=popularity&srpvid=38a48b4ade290da7&srepoch=1740685717&from=searchresults', 7, 20)\n"
     ]
    }
   ],
   "source": [
    "query2 = text(\"\"\"\n",
    "    SELECT * FROM (\n",
    "        SELECT *, \n",
    "               ROW_NUMBER() OVER (PARTITION BY city ORDER BY score DESC) AS rank\n",
    "        FROM best_hotels\n",
    "        WHERE LOWER(city) IN (\n",
    "            SELECT LOWER(city) FROM best_destinations ORDER BY temp_day DESC LIMIT 5\n",
    "        )\n",
    "    ) AS ranked_hotels\n",
    "    WHERE rank <= 20\n",
    "    ORDER BY city, score DESC;\n",
    "\"\"\")\n",
    "\n",
    "result2 = conn.execute(query2)\n",
    "\n",
    "print(\"\\nTop 20 best hotels per city in the top 5 destinations:\")\n",
    "for row in result2:\n",
    "    print(row)\n",
    "\n"
   ]
  }
 ],
 "metadata": {
  "kernelspec": {
   "display_name": "aws_env",
   "language": "python",
   "name": "python3"
  },
  "language_info": {
   "codemirror_mode": {
    "name": "ipython",
    "version": 3
   },
   "file_extension": ".py",
   "mimetype": "text/x-python",
   "name": "python",
   "nbconvert_exporter": "python",
   "pygments_lexer": "ipython3",
   "version": "3.9.21"
  }
 },
 "nbformat": 4,
 "nbformat_minor": 2
}
